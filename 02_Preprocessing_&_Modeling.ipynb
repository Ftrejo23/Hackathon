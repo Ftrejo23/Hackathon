{
 "cells": [
  {
   "cell_type": "markdown",
   "id": "1db8b3d4",
   "metadata": {},
   "source": [
    "# Imports\n",
    "---"
   ]
  },
  {
   "cell_type": "code",
   "execution_count": 1,
   "id": "c08fccf4",
   "metadata": {},
   "outputs": [],
   "source": [
    "import pandas as pd\n",
    "import numpy as np\n",
    "import matplotlib.pyplot as plt\n",
    "\n",
    "from sklearn.preprocessing import StandardScaler\n",
    "from sklearn.model_selection import (train_test_split, cross_val_score, \n",
    "                                     StratifiedKFold, GridSearchCV)\n",
    "from sklearn.feature_selection import SelectKBest\n",
    "from sklearn.ensemble import RandomForestClassifier\n",
    "from sklearn.linear_model import LogisticRegression\n",
    "\n",
    "from sklearn.metrics import (confusion_matrix, \n",
    "                             ConfusionMatrixDisplay, \n",
    "                             classification_report)\n",
    "\n",
    "np.random.seed(23)"
   ]
  },
  {
   "cell_type": "code",
   "execution_count": 2,
   "id": "3437ab7d",
   "metadata": {},
   "outputs": [],
   "source": [
    "df = pd.read_csv('Data/data_cleaned.csv')"
   ]
  },
  {
   "cell_type": "code",
   "execution_count": 3,
   "id": "f1729abb",
   "metadata": {},
   "outputs": [
    {
     "data": {
      "text/html": [
       "<div>\n",
       "<style scoped>\n",
       "    .dataframe tbody tr th:only-of-type {\n",
       "        vertical-align: middle;\n",
       "    }\n",
       "\n",
       "    .dataframe tbody tr th {\n",
       "        vertical-align: top;\n",
       "    }\n",
       "\n",
       "    .dataframe thead th {\n",
       "        text-align: right;\n",
       "    }\n",
       "</style>\n",
       "<table border=\"1\" class=\"dataframe\">\n",
       "  <thead>\n",
       "    <tr style=\"text-align: right;\">\n",
       "      <th></th>\n",
       "      <th>action_type</th>\n",
       "      <th>combined_shot_type</th>\n",
       "      <th>minutes_remaining</th>\n",
       "      <th>period</th>\n",
       "      <th>playoffs</th>\n",
       "      <th>season</th>\n",
       "      <th>seconds_remaining</th>\n",
       "      <th>shot_distance</th>\n",
       "      <th>shot_made_flag</th>\n",
       "      <th>shot_type</th>\n",
       "      <th>shot_zone_area</th>\n",
       "      <th>shot_zone_basic</th>\n",
       "      <th>shot_zone_range</th>\n",
       "      <th>game_date</th>\n",
       "      <th>matchup</th>\n",
       "      <th>opponent</th>\n",
       "    </tr>\n",
       "  </thead>\n",
       "  <tbody>\n",
       "    <tr>\n",
       "      <th>0</th>\n",
       "      <td>Jump Shot</td>\n",
       "      <td>Jump Shot</td>\n",
       "      <td>10</td>\n",
       "      <td>1</td>\n",
       "      <td>0</td>\n",
       "      <td>2000-01</td>\n",
       "      <td>22</td>\n",
       "      <td>15</td>\n",
       "      <td>0.0</td>\n",
       "      <td>2PT Field Goal</td>\n",
       "      <td>Left Side(L)</td>\n",
       "      <td>Mid-Range</td>\n",
       "      <td>8-16 ft.</td>\n",
       "      <td>2000-10-31</td>\n",
       "      <td>LAL @ POR</td>\n",
       "      <td>POR</td>\n",
       "    </tr>\n",
       "    <tr>\n",
       "      <th>1</th>\n",
       "      <td>Jump Shot</td>\n",
       "      <td>Jump Shot</td>\n",
       "      <td>7</td>\n",
       "      <td>1</td>\n",
       "      <td>0</td>\n",
       "      <td>2000-01</td>\n",
       "      <td>45</td>\n",
       "      <td>16</td>\n",
       "      <td>1.0</td>\n",
       "      <td>2PT Field Goal</td>\n",
       "      <td>Left Side Center(LC)</td>\n",
       "      <td>Mid-Range</td>\n",
       "      <td>16-24 ft.</td>\n",
       "      <td>2000-10-31</td>\n",
       "      <td>LAL @ POR</td>\n",
       "      <td>POR</td>\n",
       "    </tr>\n",
       "    <tr>\n",
       "      <th>2</th>\n",
       "      <td>Jump Shot</td>\n",
       "      <td>Jump Shot</td>\n",
       "      <td>6</td>\n",
       "      <td>1</td>\n",
       "      <td>0</td>\n",
       "      <td>2000-01</td>\n",
       "      <td>52</td>\n",
       "      <td>22</td>\n",
       "      <td>0.0</td>\n",
       "      <td>2PT Field Goal</td>\n",
       "      <td>Right Side Center(RC)</td>\n",
       "      <td>Mid-Range</td>\n",
       "      <td>16-24 ft.</td>\n",
       "      <td>2000-10-31</td>\n",
       "      <td>LAL @ POR</td>\n",
       "      <td>POR</td>\n",
       "    </tr>\n",
       "    <tr>\n",
       "      <th>3</th>\n",
       "      <td>Driving Dunk Shot</td>\n",
       "      <td>Dunk</td>\n",
       "      <td>6</td>\n",
       "      <td>2</td>\n",
       "      <td>0</td>\n",
       "      <td>2000-01</td>\n",
       "      <td>19</td>\n",
       "      <td>0</td>\n",
       "      <td>1.0</td>\n",
       "      <td>2PT Field Goal</td>\n",
       "      <td>Center(C)</td>\n",
       "      <td>Restricted Area</td>\n",
       "      <td>Less Than 8 ft.</td>\n",
       "      <td>2000-10-31</td>\n",
       "      <td>LAL @ POR</td>\n",
       "      <td>POR</td>\n",
       "    </tr>\n",
       "    <tr>\n",
       "      <th>4</th>\n",
       "      <td>Jump Shot</td>\n",
       "      <td>Jump Shot</td>\n",
       "      <td>9</td>\n",
       "      <td>3</td>\n",
       "      <td>0</td>\n",
       "      <td>2000-01</td>\n",
       "      <td>32</td>\n",
       "      <td>14</td>\n",
       "      <td>0.0</td>\n",
       "      <td>2PT Field Goal</td>\n",
       "      <td>Left Side(L)</td>\n",
       "      <td>Mid-Range</td>\n",
       "      <td>8-16 ft.</td>\n",
       "      <td>2000-10-31</td>\n",
       "      <td>LAL @ POR</td>\n",
       "      <td>POR</td>\n",
       "    </tr>\n",
       "  </tbody>\n",
       "</table>\n",
       "</div>"
      ],
      "text/plain": [
       "         action_type combined_shot_type  minutes_remaining  period  playoffs  \\\n",
       "0          Jump Shot          Jump Shot                 10       1         0   \n",
       "1          Jump Shot          Jump Shot                  7       1         0   \n",
       "2          Jump Shot          Jump Shot                  6       1         0   \n",
       "3  Driving Dunk Shot               Dunk                  6       2         0   \n",
       "4          Jump Shot          Jump Shot                  9       3         0   \n",
       "\n",
       "    season  seconds_remaining  shot_distance  shot_made_flag       shot_type  \\\n",
       "0  2000-01                 22             15             0.0  2PT Field Goal   \n",
       "1  2000-01                 45             16             1.0  2PT Field Goal   \n",
       "2  2000-01                 52             22             0.0  2PT Field Goal   \n",
       "3  2000-01                 19              0             1.0  2PT Field Goal   \n",
       "4  2000-01                 32             14             0.0  2PT Field Goal   \n",
       "\n",
       "          shot_zone_area  shot_zone_basic  shot_zone_range   game_date  \\\n",
       "0           Left Side(L)        Mid-Range         8-16 ft.  2000-10-31   \n",
       "1   Left Side Center(LC)        Mid-Range        16-24 ft.  2000-10-31   \n",
       "2  Right Side Center(RC)        Mid-Range        16-24 ft.  2000-10-31   \n",
       "3              Center(C)  Restricted Area  Less Than 8 ft.  2000-10-31   \n",
       "4           Left Side(L)        Mid-Range         8-16 ft.  2000-10-31   \n",
       "\n",
       "     matchup opponent  \n",
       "0  LAL @ POR      POR  \n",
       "1  LAL @ POR      POR  \n",
       "2  LAL @ POR      POR  \n",
       "3  LAL @ POR      POR  \n",
       "4  LAL @ POR      POR  "
      ]
     },
     "execution_count": 3,
     "metadata": {},
     "output_type": "execute_result"
    }
   ],
   "source": [
    "df.head()"
   ]
  },
  {
   "cell_type": "markdown",
   "id": "5026f132",
   "metadata": {},
   "source": [
    "# Dummifying Features & Concatenating Dataframe\n",
    "---"
   ]
  },
  {
   "cell_type": "code",
   "execution_count": 4,
   "id": "fda78ee6",
   "metadata": {},
   "outputs": [
    {
     "data": {
      "text/plain": [
       "['action_type',\n",
       " 'combined_shot_type',\n",
       " 'minutes_remaining',\n",
       " 'period',\n",
       " 'playoffs',\n",
       " 'season',\n",
       " 'seconds_remaining',\n",
       " 'shot_distance',\n",
       " 'shot_made_flag',\n",
       " 'shot_type',\n",
       " 'shot_zone_area',\n",
       " 'shot_zone_basic',\n",
       " 'shot_zone_range',\n",
       " 'game_date',\n",
       " 'matchup',\n",
       " 'opponent']"
      ]
     },
     "execution_count": 4,
     "metadata": {},
     "output_type": "execute_result"
    }
   ],
   "source": [
    "df.columns.to_list()"
   ]
  },
  {
   "cell_type": "code",
   "execution_count": 5,
   "id": "7a62bd72",
   "metadata": {},
   "outputs": [],
   "source": [
    "df['year'] = [x[:4] for x in df.game_date]"
   ]
  },
  {
   "cell_type": "code",
   "execution_count": 6,
   "id": "6b2f8b12",
   "metadata": {},
   "outputs": [],
   "source": [
    "features = ['combined_shot_type', 'minutes_remaining', \n",
    "            'period', 'shot_type', 'year', 'opponent']\n",
    "\n",
    "# snake_casing subgroups for features \n",
    "for feature in features:\n",
    "    if df[feature].dtypes == object:\n",
    "        df[feature] = [x.replace(' ', '_') for x in df[feature]]\n",
    "        \n",
    "df_dum = pd.get_dummies(df[features], drop_first=True)\n",
    "\n",
    "df_final = pd.concat([df_dum, \n",
    "                      df[['playoffs', \n",
    "                          'shot_distance', \n",
    "                          'shot_made_flag']]], \n",
    "                     axis=1)"
   ]
  },
  {
   "cell_type": "code",
   "execution_count": 7,
   "id": "834e70be",
   "metadata": {},
   "outputs": [
    {
     "data": {
      "text/html": [
       "<div>\n",
       "<style scoped>\n",
       "    .dataframe tbody tr th:only-of-type {\n",
       "        vertical-align: middle;\n",
       "    }\n",
       "\n",
       "    .dataframe tbody tr th {\n",
       "        vertical-align: top;\n",
       "    }\n",
       "\n",
       "    .dataframe thead th {\n",
       "        text-align: right;\n",
       "    }\n",
       "</style>\n",
       "<table border=\"1\" class=\"dataframe\">\n",
       "  <thead>\n",
       "    <tr style=\"text-align: right;\">\n",
       "      <th></th>\n",
       "      <th>minutes_remaining</th>\n",
       "      <th>period</th>\n",
       "      <th>combined_shot_type_Dunk</th>\n",
       "      <th>combined_shot_type_Hook_Shot</th>\n",
       "      <th>combined_shot_type_Jump_Shot</th>\n",
       "      <th>combined_shot_type_Layup</th>\n",
       "      <th>combined_shot_type_Tip_Shot</th>\n",
       "      <th>shot_type_3PT_Field_Goal</th>\n",
       "      <th>year_1997</th>\n",
       "      <th>year_1998</th>\n",
       "      <th>...</th>\n",
       "      <th>opponent_SAC</th>\n",
       "      <th>opponent_SAS</th>\n",
       "      <th>opponent_SEA</th>\n",
       "      <th>opponent_TOR</th>\n",
       "      <th>opponent_UTA</th>\n",
       "      <th>opponent_VAN</th>\n",
       "      <th>opponent_WAS</th>\n",
       "      <th>playoffs</th>\n",
       "      <th>shot_distance</th>\n",
       "      <th>shot_made_flag</th>\n",
       "    </tr>\n",
       "  </thead>\n",
       "  <tbody>\n",
       "    <tr>\n",
       "      <th>0</th>\n",
       "      <td>10</td>\n",
       "      <td>1</td>\n",
       "      <td>0</td>\n",
       "      <td>0</td>\n",
       "      <td>1</td>\n",
       "      <td>0</td>\n",
       "      <td>0</td>\n",
       "      <td>0</td>\n",
       "      <td>0</td>\n",
       "      <td>0</td>\n",
       "      <td>...</td>\n",
       "      <td>0</td>\n",
       "      <td>0</td>\n",
       "      <td>0</td>\n",
       "      <td>0</td>\n",
       "      <td>0</td>\n",
       "      <td>0</td>\n",
       "      <td>0</td>\n",
       "      <td>0</td>\n",
       "      <td>15</td>\n",
       "      <td>0.0</td>\n",
       "    </tr>\n",
       "    <tr>\n",
       "      <th>1</th>\n",
       "      <td>7</td>\n",
       "      <td>1</td>\n",
       "      <td>0</td>\n",
       "      <td>0</td>\n",
       "      <td>1</td>\n",
       "      <td>0</td>\n",
       "      <td>0</td>\n",
       "      <td>0</td>\n",
       "      <td>0</td>\n",
       "      <td>0</td>\n",
       "      <td>...</td>\n",
       "      <td>0</td>\n",
       "      <td>0</td>\n",
       "      <td>0</td>\n",
       "      <td>0</td>\n",
       "      <td>0</td>\n",
       "      <td>0</td>\n",
       "      <td>0</td>\n",
       "      <td>0</td>\n",
       "      <td>16</td>\n",
       "      <td>1.0</td>\n",
       "    </tr>\n",
       "    <tr>\n",
       "      <th>2</th>\n",
       "      <td>6</td>\n",
       "      <td>1</td>\n",
       "      <td>0</td>\n",
       "      <td>0</td>\n",
       "      <td>1</td>\n",
       "      <td>0</td>\n",
       "      <td>0</td>\n",
       "      <td>0</td>\n",
       "      <td>0</td>\n",
       "      <td>0</td>\n",
       "      <td>...</td>\n",
       "      <td>0</td>\n",
       "      <td>0</td>\n",
       "      <td>0</td>\n",
       "      <td>0</td>\n",
       "      <td>0</td>\n",
       "      <td>0</td>\n",
       "      <td>0</td>\n",
       "      <td>0</td>\n",
       "      <td>22</td>\n",
       "      <td>0.0</td>\n",
       "    </tr>\n",
       "    <tr>\n",
       "      <th>3</th>\n",
       "      <td>6</td>\n",
       "      <td>2</td>\n",
       "      <td>1</td>\n",
       "      <td>0</td>\n",
       "      <td>0</td>\n",
       "      <td>0</td>\n",
       "      <td>0</td>\n",
       "      <td>0</td>\n",
       "      <td>0</td>\n",
       "      <td>0</td>\n",
       "      <td>...</td>\n",
       "      <td>0</td>\n",
       "      <td>0</td>\n",
       "      <td>0</td>\n",
       "      <td>0</td>\n",
       "      <td>0</td>\n",
       "      <td>0</td>\n",
       "      <td>0</td>\n",
       "      <td>0</td>\n",
       "      <td>0</td>\n",
       "      <td>1.0</td>\n",
       "    </tr>\n",
       "    <tr>\n",
       "      <th>4</th>\n",
       "      <td>9</td>\n",
       "      <td>3</td>\n",
       "      <td>0</td>\n",
       "      <td>0</td>\n",
       "      <td>1</td>\n",
       "      <td>0</td>\n",
       "      <td>0</td>\n",
       "      <td>0</td>\n",
       "      <td>0</td>\n",
       "      <td>0</td>\n",
       "      <td>...</td>\n",
       "      <td>0</td>\n",
       "      <td>0</td>\n",
       "      <td>0</td>\n",
       "      <td>0</td>\n",
       "      <td>0</td>\n",
       "      <td>0</td>\n",
       "      <td>0</td>\n",
       "      <td>0</td>\n",
       "      <td>14</td>\n",
       "      <td>0.0</td>\n",
       "    </tr>\n",
       "  </tbody>\n",
       "</table>\n",
       "<p>5 rows × 63 columns</p>\n",
       "</div>"
      ],
      "text/plain": [
       "   minutes_remaining  period  combined_shot_type_Dunk  \\\n",
       "0                 10       1                        0   \n",
       "1                  7       1                        0   \n",
       "2                  6       1                        0   \n",
       "3                  6       2                        1   \n",
       "4                  9       3                        0   \n",
       "\n",
       "   combined_shot_type_Hook_Shot  combined_shot_type_Jump_Shot  \\\n",
       "0                             0                             1   \n",
       "1                             0                             1   \n",
       "2                             0                             1   \n",
       "3                             0                             0   \n",
       "4                             0                             1   \n",
       "\n",
       "   combined_shot_type_Layup  combined_shot_type_Tip_Shot  \\\n",
       "0                         0                            0   \n",
       "1                         0                            0   \n",
       "2                         0                            0   \n",
       "3                         0                            0   \n",
       "4                         0                            0   \n",
       "\n",
       "   shot_type_3PT_Field_Goal  year_1997  year_1998  ...  opponent_SAC  \\\n",
       "0                         0          0          0  ...             0   \n",
       "1                         0          0          0  ...             0   \n",
       "2                         0          0          0  ...             0   \n",
       "3                         0          0          0  ...             0   \n",
       "4                         0          0          0  ...             0   \n",
       "\n",
       "   opponent_SAS  opponent_SEA  opponent_TOR  opponent_UTA  opponent_VAN  \\\n",
       "0             0             0             0             0             0   \n",
       "1             0             0             0             0             0   \n",
       "2             0             0             0             0             0   \n",
       "3             0             0             0             0             0   \n",
       "4             0             0             0             0             0   \n",
       "\n",
       "   opponent_WAS  playoffs  shot_distance  shot_made_flag  \n",
       "0             0         0             15             0.0  \n",
       "1             0         0             16             1.0  \n",
       "2             0         0             22             0.0  \n",
       "3             0         0              0             1.0  \n",
       "4             0         0             14             0.0  \n",
       "\n",
       "[5 rows x 63 columns]"
      ]
     },
     "execution_count": 7,
     "metadata": {},
     "output_type": "execute_result"
    }
   ],
   "source": [
    "df_final.head()"
   ]
  },
  {
   "cell_type": "markdown",
   "id": "1c607a5e",
   "metadata": {},
   "source": [
    "## Train Test Split"
   ]
  },
  {
   "cell_type": "code",
   "execution_count": 8,
   "id": "c9d79520",
   "metadata": {},
   "outputs": [],
   "source": [
    "X = df_final.drop('shot_made_flag', axis=1)\n",
    "y = df_final.shot_made_flag"
   ]
  },
  {
   "cell_type": "code",
   "execution_count": 9,
   "id": "01e29cc4",
   "metadata": {},
   "outputs": [],
   "source": [
    "X_train, X_test, y_train, y_test = train_test_split(X,y,\n",
    "                                                   test_size = 0.20,\n",
    "                                                   random_state = 23)"
   ]
  },
  {
   "cell_type": "markdown",
   "id": "9e111f76",
   "metadata": {},
   "source": [
    "## Standard Scale"
   ]
  },
  {
   "cell_type": "code",
   "execution_count": 10,
   "id": "9df17fdd",
   "metadata": {},
   "outputs": [],
   "source": [
    "# initialize\n",
    "ss = StandardScaler()\n",
    "\n",
    "# fit on Train\n",
    "X_train_ss = pd.DataFrame(ss.fit_transform(X_train), \n",
    "                          columns=X_train.columns, \n",
    "                          index=X_train.index)\n",
    "\n",
    "# transform test\n",
    "X_test_ss = pd.DataFrame(ss.transform(X_test), \n",
    "                         columns=X_test.columns, \n",
    "                         index=X_test.index)"
   ]
  },
  {
   "cell_type": "markdown",
   "id": "3ad31de3",
   "metadata": {},
   "source": [
    "## SelectKBest"
   ]
  },
  {
   "cell_type": "code",
   "execution_count": 11,
   "id": "e477d36b",
   "metadata": {},
   "outputs": [
    {
     "data": {
      "text/plain": [
       "SelectKBest(k=20)"
      ]
     },
     "execution_count": 11,
     "metadata": {},
     "output_type": "execute_result"
    }
   ],
   "source": [
    "# Create and fit selector\n",
    "selector = SelectKBest(k=20)\n",
    "selector.fit(X_train_ss, y_train)"
   ]
  },
  {
   "cell_type": "code",
   "execution_count": 12,
   "id": "68d31a61",
   "metadata": {},
   "outputs": [],
   "source": [
    "# Get columns to keep and create new dataframe with those only\n",
    "cols = selector.get_support(indices=True)"
   ]
  },
  {
   "cell_type": "code",
   "execution_count": 13,
   "id": "142a78b8",
   "metadata": {},
   "outputs": [],
   "source": [
    "X_train = X_train_ss.iloc[:,cols]\n",
    "X_test = X_test_ss.iloc[:,cols]"
   ]
  },
  {
   "cell_type": "code",
   "execution_count": 14,
   "id": "60cb61b1",
   "metadata": {},
   "outputs": [
    {
     "data": {
      "text/plain": [
       "['minutes_remaining',\n",
       " 'period',\n",
       " 'combined_shot_type_Dunk',\n",
       " 'combined_shot_type_Jump_Shot',\n",
       " 'combined_shot_type_Layup',\n",
       " 'shot_type_3PT_Field_Goal',\n",
       " 'year_2000',\n",
       " 'year_2001',\n",
       " 'year_2004',\n",
       " 'year_2008',\n",
       " 'year_2009',\n",
       " 'year_2014',\n",
       " 'year_2015',\n",
       " 'year_2016',\n",
       " 'opponent_BOS',\n",
       " 'opponent_IND',\n",
       " 'opponent_MIL',\n",
       " 'opponent_NYK',\n",
       " 'opponent_PHX',\n",
       " 'shot_distance']"
      ]
     },
     "execution_count": 14,
     "metadata": {},
     "output_type": "execute_result"
    }
   ],
   "source": [
    "# Selected Columns\n",
    "X_train.columns.tolist()"
   ]
  },
  {
   "cell_type": "markdown",
   "id": "d837aa5c",
   "metadata": {},
   "source": [
    "# Modeling\n",
    "---"
   ]
  },
  {
   "cell_type": "markdown",
   "id": "b2d8663c",
   "metadata": {},
   "source": [
    "## Calculate the baseline"
   ]
  },
  {
   "cell_type": "code",
   "execution_count": 15,
   "id": "3f19ad2f",
   "metadata": {},
   "outputs": [
    {
     "name": "stdout",
     "output_type": "stream",
     "text": [
      "Baseline score: 55%\n"
     ]
    }
   ],
   "source": [
    "baseline = round(df_final['shot_made_flag'].value_counts(normalize=True)[0] * 100)\n",
    "print(f'Baseline score: {baseline}%')"
   ]
  },
  {
   "cell_type": "markdown",
   "id": "cb4960d4",
   "metadata": {},
   "source": [
    "## Let's create a function to print out cross val score"
   ]
  },
  {
   "cell_type": "code",
   "execution_count": 16,
   "id": "85b4ad13",
   "metadata": {},
   "outputs": [],
   "source": [
    "def model_scores(cv_scores, model, X, y, model_name):  \n",
    "    print(f'Score from {model_name}: {model.score(X, y):.4f}')\n",
    "    print(f'Min and Max scores are: [{cv_scores.min():.4f}, {cv_scores.max():.4f}]')\n",
    "    print(f'Confidence interval is : {cv_scores.mean():.4f} \\u00B1 {2*cv_scores.std():.4f}')"
   ]
  },
  {
   "cell_type": "markdown",
   "id": "a283026d",
   "metadata": {},
   "source": [
    "## Now let's create a Random Forest Model"
   ]
  },
  {
   "cell_type": "code",
   "execution_count": 17,
   "id": "0565a26a",
   "metadata": {},
   "outputs": [
    {
     "data": {
      "text/plain": [
       "RandomForestClassifier(class_weight='balanced', max_depth=10, n_estimators=20,\n",
       "                       n_jobs=-1, random_state=23)"
      ]
     },
     "execution_count": 17,
     "metadata": {},
     "output_type": "execute_result"
    }
   ],
   "source": [
    "rf = RandomForestClassifier(n_jobs=-1, random_state=23, n_estimators=20, class_weight='balanced', max_depth=10)\n",
    "rf.fit(X_train, np.ravel(y_train))"
   ]
  },
  {
   "cell_type": "code",
   "execution_count": 18,
   "id": "244bfc24",
   "metadata": {},
   "outputs": [],
   "source": [
    "X = df_final.drop('shot_made_flag', axis=1)\n",
    "y = df_final.shot_made_flag"
   ]
  },
  {
   "cell_type": "code",
   "execution_count": 19,
   "id": "f63200a7",
   "metadata": {},
   "outputs": [
    {
     "name": "stdout",
     "output_type": "stream",
     "text": [
      "Score from random forest: 0.6070\n",
      "Min and Max scores are: [0.5965, 0.6261]\n",
      "Confidence interval is : 0.6101 ± 0.0163\n"
     ]
    }
   ],
   "source": [
    "cv = StratifiedKFold(n_splits=10, random_state=42, shuffle=True)\n",
    "\n",
    "scores = cross_val_score(rf, X, y, cv=cv)\n",
    "\n",
    "model_scores(scores, rf, X_test, y_test, 'random forest')"
   ]
  },
  {
   "cell_type": "markdown",
   "id": "0bd24c17",
   "metadata": {},
   "source": [
    "### For our Random Forests model our accuracy was 60.70% which is 5.7% better than our baseline of 55%. Our mean cross val score for our model is 61.01% with a confidence interval of ± 1.63% which is a small interval showing we have low variance."
   ]
  },
  {
   "cell_type": "markdown",
   "id": "0ed4701e",
   "metadata": {},
   "source": [
    "## Now let's look at the feature importance of our Random Forest model to identify the features that are most relevant."
   ]
  },
  {
   "cell_type": "code",
   "execution_count": 20,
   "id": "642a49cc",
   "metadata": {},
   "outputs": [
    {
     "data": {
      "text/html": [
       "<div>\n",
       "<style scoped>\n",
       "    .dataframe tbody tr th:only-of-type {\n",
       "        vertical-align: middle;\n",
       "    }\n",
       "\n",
       "    .dataframe tbody tr th {\n",
       "        vertical-align: top;\n",
       "    }\n",
       "\n",
       "    .dataframe thead th {\n",
       "        text-align: right;\n",
       "    }\n",
       "</style>\n",
       "<table border=\"1\" class=\"dataframe\">\n",
       "  <thead>\n",
       "    <tr style=\"text-align: right;\">\n",
       "      <th></th>\n",
       "      <th>feature</th>\n",
       "      <th>importance</th>\n",
       "    </tr>\n",
       "  </thead>\n",
       "  <tbody>\n",
       "    <tr>\n",
       "      <th>19</th>\n",
       "      <td>shot_distance</td>\n",
       "      <td>0.303423</td>\n",
       "    </tr>\n",
       "    <tr>\n",
       "      <th>2</th>\n",
       "      <td>combined_shot_type_Dunk</td>\n",
       "      <td>0.168515</td>\n",
       "    </tr>\n",
       "    <tr>\n",
       "      <th>3</th>\n",
       "      <td>combined_shot_type_Jump_Shot</td>\n",
       "      <td>0.106335</td>\n",
       "    </tr>\n",
       "    <tr>\n",
       "      <th>0</th>\n",
       "      <td>minutes_remaining</td>\n",
       "      <td>0.102162</td>\n",
       "    </tr>\n",
       "    <tr>\n",
       "      <th>4</th>\n",
       "      <td>combined_shot_type_Layup</td>\n",
       "      <td>0.069738</td>\n",
       "    </tr>\n",
       "  </tbody>\n",
       "</table>\n",
       "</div>"
      ],
      "text/plain": [
       "                         feature  importance\n",
       "19                 shot_distance    0.303423\n",
       "2        combined_shot_type_Dunk    0.168515\n",
       "3   combined_shot_type_Jump_Shot    0.106335\n",
       "0              minutes_remaining    0.102162\n",
       "4       combined_shot_type_Layup    0.069738"
      ]
     },
     "execution_count": 20,
     "metadata": {},
     "output_type": "execute_result"
    }
   ],
   "source": [
    "df_feature_importance = pd.DataFrame({'feature':X_train.columns,\n",
    "                                      'importance':rf.feature_importances_})\n",
    "df_feature_importance.sort_values('importance', ascending=False).head()"
   ]
  },
  {
   "cell_type": "markdown",
   "id": "ce35d17d",
   "metadata": {},
   "source": [
    "## According to our Random Forest model the above 5 features have the best predictive power (level of importance)."
   ]
  },
  {
   "cell_type": "code",
   "execution_count": 21,
   "id": "a123f75b",
   "metadata": {},
   "outputs": [
    {
     "data": {
      "text/html": [
       "<div>\n",
       "<style scoped>\n",
       "    .dataframe tbody tr th:only-of-type {\n",
       "        vertical-align: middle;\n",
       "    }\n",
       "\n",
       "    .dataframe tbody tr th {\n",
       "        vertical-align: top;\n",
       "    }\n",
       "\n",
       "    .dataframe thead th {\n",
       "        text-align: right;\n",
       "    }\n",
       "</style>\n",
       "<table border=\"1\" class=\"dataframe\">\n",
       "  <thead>\n",
       "    <tr style=\"text-align: right;\">\n",
       "      <th></th>\n",
       "      <th>count</th>\n",
       "      <th>mean</th>\n",
       "      <th>std</th>\n",
       "      <th>min</th>\n",
       "      <th>25%</th>\n",
       "      <th>50%</th>\n",
       "      <th>75%</th>\n",
       "      <th>max</th>\n",
       "    </tr>\n",
       "    <tr>\n",
       "      <th>shot_made_flag</th>\n",
       "      <th></th>\n",
       "      <th></th>\n",
       "      <th></th>\n",
       "      <th></th>\n",
       "      <th></th>\n",
       "      <th></th>\n",
       "      <th></th>\n",
       "      <th></th>\n",
       "    </tr>\n",
       "  </thead>\n",
       "  <tbody>\n",
       "    <tr>\n",
       "      <th>0.0</th>\n",
       "      <td>14232.0</td>\n",
       "      <td>15.127600</td>\n",
       "      <td>9.193606</td>\n",
       "      <td>0.0</td>\n",
       "      <td>8.0</td>\n",
       "      <td>16.0</td>\n",
       "      <td>22.0</td>\n",
       "      <td>79.0</td>\n",
       "    </tr>\n",
       "    <tr>\n",
       "      <th>1.0</th>\n",
       "      <td>11465.0</td>\n",
       "      <td>11.383428</td>\n",
       "      <td>9.213679</td>\n",
       "      <td>0.0</td>\n",
       "      <td>0.0</td>\n",
       "      <td>12.0</td>\n",
       "      <td>19.0</td>\n",
       "      <td>43.0</td>\n",
       "    </tr>\n",
       "  </tbody>\n",
       "</table>\n",
       "</div>"
      ],
      "text/plain": [
       "                  count       mean       std  min  25%   50%   75%   max\n",
       "shot_made_flag                                                          \n",
       "0.0             14232.0  15.127600  9.193606  0.0  8.0  16.0  22.0  79.0\n",
       "1.0             11465.0  11.383428  9.213679  0.0  0.0  12.0  19.0  43.0"
      ]
     },
     "execution_count": 21,
     "metadata": {},
     "output_type": "execute_result"
    }
   ],
   "source": [
    "df_final.groupby('shot_made_flag').describe()['shot_distance']"
   ]
  },
  {
   "cell_type": "markdown",
   "id": "28b9d919",
   "metadata": {},
   "source": [
    "### Top 2 features\n",
    " - shot_distance: We can see that the average shot distance for made shots is 11.38 feet and for misses is 15.12 feet. We want shots to be closer to 11 feet for better odds of making it.\n",
    " - combined_shot_type_Dunk: We want to make sure dunks are emphasized since our model predicted this as being important and leading to more successful shots made."
   ]
  },
  {
   "cell_type": "markdown",
   "id": "ca866058",
   "metadata": {},
   "source": [
    "# Logistic Regression Model"
   ]
  },
  {
   "cell_type": "code",
   "execution_count": 22,
   "id": "1776e68d",
   "metadata": {},
   "outputs": [
    {
     "name": "stdout",
     "output_type": "stream",
     "text": [
      "LogisticRegression(penalty='l1', solver='saga')\n",
      "{'penalty': 'l1', 'solver': 'saga'}\n",
      "\n",
      "Baseline: 55%\n",
      "\n",
      "Best Score: 0.6133\n",
      "Test Score: 0.6111\n"
     ]
    }
   ],
   "source": [
    "logreg_params = {'penalty': ['l1', 'l2'], \n",
    "                 'solver': ['liblinear', 'saga'],\n",
    "                }\n",
    "\n",
    "logreg_gridsearch = GridSearchCV(LogisticRegression(), \n",
    "                                 logreg_params, \n",
    "                                 cv=5, \n",
    "                                 n_jobs=-1)\n",
    "\n",
    "logreg_gridsearch.fit(X_train, y_train.values.ravel())\n",
    "\n",
    "print(logreg_gridsearch.best_estimator_)\n",
    "print(logreg_gridsearch.best_params_)\n",
    "\n",
    "print('\\nBaseline: 55%')\n",
    "\n",
    "print('\\nBest Score:', round(logreg_gridsearch.best_score_, 4))\n",
    "print('Test Score:', round(logreg_gridsearch.score(X_test, y_test.values.ravel()), 4))"
   ]
  },
  {
   "cell_type": "markdown",
   "id": "776bd03e",
   "metadata": {},
   "source": [
    "# Cross Val"
   ]
  },
  {
   "cell_type": "code",
   "execution_count": 23,
   "id": "1f5ff103",
   "metadata": {},
   "outputs": [
    {
     "name": "stdout",
     "output_type": "stream",
     "text": [
      "Baseline: 55%\n",
      "\n",
      "Train scores: [0.60797665 0.61527237 0.61177329 0.61444904 0.61663829]\n",
      "Mean: 0.613\n",
      "Stdev: 0.006 \n",
      "\n",
      "Test scores: [0.60700389 0.60311284 0.61575875 0.60019455 0.60505837]\n",
      "Mean: 0.606\n",
      "Stdev: 0.011 \n",
      "\n"
     ]
    }
   ],
   "source": [
    "logreg = LogisticRegression(max_iter=50000, \n",
    "                            penalty='l1', \n",
    "                            random_state=73, \n",
    "                            solver='liblinear')\n",
    "\n",
    "logreg.fit(X_train, y_train.values.ravel())\n",
    "\n",
    "train_scores = cross_val_score(logreg, X_train, y_train.values.ravel())\n",
    "test_scores = cross_val_score(logreg, X_test, y_test.values.ravel())\n",
    "\n",
    "print('Baseline: 55%\\n')\n",
    "\n",
    "print('Train scores:', train_scores)\n",
    "print('Mean:', round(train_scores.mean(), 3))\n",
    "print('Stdev:', round(2 * train_scores.std(), 3), '\\n')\n",
    "\n",
    "print('Test scores:', test_scores)\n",
    "print('Mean:', round(test_scores.mean(), 3))\n",
    "print('Stdev:', round(2 * test_scores.std(), 3), '\\n')"
   ]
  },
  {
   "cell_type": "markdown",
   "id": "930fb00f",
   "metadata": {},
   "source": [
    "# Coefficient Interpretation"
   ]
  },
  {
   "cell_type": "code",
   "execution_count": 24,
   "id": "3e11094f",
   "metadata": {},
   "outputs": [
    {
     "data": {
      "text/html": [
       "<div>\n",
       "<style scoped>\n",
       "    .dataframe tbody tr th:only-of-type {\n",
       "        vertical-align: middle;\n",
       "    }\n",
       "\n",
       "    .dataframe tbody tr th {\n",
       "        vertical-align: top;\n",
       "    }\n",
       "\n",
       "    .dataframe thead th {\n",
       "        text-align: right;\n",
       "    }\n",
       "</style>\n",
       "<table border=\"1\" class=\"dataframe\">\n",
       "  <thead>\n",
       "    <tr style=\"text-align: right;\">\n",
       "      <th></th>\n",
       "      <th>features</th>\n",
       "      <th>coef</th>\n",
       "      <th>abs</th>\n",
       "    </tr>\n",
       "  </thead>\n",
       "  <tbody>\n",
       "    <tr>\n",
       "      <th>2</th>\n",
       "      <td>combined_shot_type_Dunk</td>\n",
       "      <td>0.598433</td>\n",
       "      <td>0.598433</td>\n",
       "    </tr>\n",
       "    <tr>\n",
       "      <th>3</th>\n",
       "      <td>combined_shot_type_Jump_Shot</td>\n",
       "      <td>-0.156243</td>\n",
       "      <td>0.156243</td>\n",
       "    </tr>\n",
       "    <tr>\n",
       "      <th>19</th>\n",
       "      <td>shot_distance</td>\n",
       "      <td>-0.130305</td>\n",
       "      <td>0.130305</td>\n",
       "    </tr>\n",
       "    <tr>\n",
       "      <th>5</th>\n",
       "      <td>shot_type_3PT_Field_Goal</td>\n",
       "      <td>-0.060304</td>\n",
       "      <td>0.060304</td>\n",
       "    </tr>\n",
       "    <tr>\n",
       "      <th>1</th>\n",
       "      <td>period</td>\n",
       "      <td>-0.053639</td>\n",
       "      <td>0.053639</td>\n",
       "    </tr>\n",
       "    <tr>\n",
       "      <th>0</th>\n",
       "      <td>minutes_remaining</td>\n",
       "      <td>0.044301</td>\n",
       "      <td>0.044301</td>\n",
       "    </tr>\n",
       "    <tr>\n",
       "      <th>10</th>\n",
       "      <td>year_2009</td>\n",
       "      <td>0.032707</td>\n",
       "      <td>0.032707</td>\n",
       "    </tr>\n",
       "    <tr>\n",
       "      <th>16</th>\n",
       "      <td>opponent_MIL</td>\n",
       "      <td>-0.030585</td>\n",
       "      <td>0.030585</td>\n",
       "    </tr>\n",
       "    <tr>\n",
       "      <th>8</th>\n",
       "      <td>year_2004</td>\n",
       "      <td>-0.029788</td>\n",
       "      <td>0.029788</td>\n",
       "    </tr>\n",
       "    <tr>\n",
       "      <th>17</th>\n",
       "      <td>opponent_NYK</td>\n",
       "      <td>0.027477</td>\n",
       "      <td>0.027477</td>\n",
       "    </tr>\n",
       "  </tbody>\n",
       "</table>\n",
       "</div>"
      ],
      "text/plain": [
       "                        features      coef       abs\n",
       "2        combined_shot_type_Dunk  0.598433  0.598433\n",
       "3   combined_shot_type_Jump_Shot -0.156243  0.156243\n",
       "19                 shot_distance -0.130305  0.130305\n",
       "5       shot_type_3PT_Field_Goal -0.060304  0.060304\n",
       "1                         period -0.053639  0.053639\n",
       "0              minutes_remaining  0.044301  0.044301\n",
       "10                     year_2009  0.032707  0.032707\n",
       "16                  opponent_MIL -0.030585  0.030585\n",
       "8                      year_2004 -0.029788  0.029788\n",
       "17                  opponent_NYK  0.027477  0.027477"
      ]
     },
     "execution_count": 24,
     "metadata": {},
     "output_type": "execute_result"
    }
   ],
   "source": [
    "logreg_coefs_0 = pd.DataFrame(list(zip(X_train.columns, np.expm1(logreg.coef_[0]))), \n",
    "                           columns=['features', 'coef'])\n",
    "\n",
    "logreg_coefs_0['abs'] = abs(logreg_coefs_0['coef'])\n",
    "\n",
    "logreg_coefs_0.sort_values('abs', ascending=False).head(10)"
   ]
  },
  {
   "cell_type": "markdown",
   "id": "0e77d59b",
   "metadata": {},
   "source": [
    "# Metrics"
   ]
  },
  {
   "cell_type": "code",
   "execution_count": 25,
   "id": "93056a83",
   "metadata": {},
   "outputs": [
    {
     "name": "stdout",
     "output_type": "stream",
     "text": [
      "              precision    recall  f1-score   support\n",
      "\n",
      "      Missed       0.61      0.84      0.70      2833\n",
      "        Made       0.63      0.33      0.43      2307\n",
      "\n",
      "    accuracy                           0.61      5140\n",
      "   macro avg       0.62      0.59      0.57      5140\n",
      "weighted avg       0.62      0.61      0.58      5140\n",
      "\n"
     ]
    },
    {
     "data": {
      "text/plain": [
       "''"
      ]
     },
     "execution_count": 25,
     "metadata": {},
     "output_type": "execute_result"
    },
    {
     "data": {
      "image/png": "[encoded data removed]",
      "text/plain": [
       "<Figure size 720x720 with 2 Axes>"
      ]
     },
     "metadata": {
      "needs_background": "light"
     },
     "output_type": "display_data"
    }
   ],
   "source": [
    "conmat = np.array(confusion_matrix(y_test, \n",
    "                                   logreg.predict(X_test), \n",
    "                                   labels=[0, 1]))\n",
    "\n",
    "print(classification_report(y_test,\n",
    "                            logreg.predict(X_test), \n",
    "                            target_names=['Missed', 'Made']))\n",
    "\n",
    "matrix_display = ConfusionMatrixDisplay(confusion_matrix=conmat, \n",
    "                                        display_labels=logreg.classes_)\n",
    "matrix_display.plot()\n",
    "\n",
    "figure = plt.gcf()\n",
    "figure.set_size_inches(10, 10)\n",
    ";"
   ]
  },
  {
   "cell_type": "markdown",
   "id": "277a1d17",
   "metadata": {},
   "source": [
    "## Analysis\n",
    "\n",
    "- The Logistic Regression model was overall 61% accurate in predicting the Target Class - \"Shot Made\"\n",
    "- This is 6% better than the baseline model of 55% (majority class: \"Shit Missed\"\n",
    "- The features with the largest coefficients \n",
    "    - `combined_shot_type_Dunk`\n",
    "    - `combined_shot_type_Jump_Shot`\n",
    "    - `shot_distance`\n",
    "    - `shot_type_3PT_Field_Goal`\n",
    "    - `minutes_remaining`\n",
    "- This Logistic Regression model had the same accuracy in predicting the target class as the Random Forest model. Both models had similar \"important features\". "
   ]
  },
  {
   "cell_type": "markdown",
   "id": "390a5ba5",
   "metadata": {},
   "source": [
    "## Conclusions\n",
    "---\n",
    "We are going to use our Logistic Regression model over our Random Forest model. Even though both models scored the same our Logisitc Regression model provides more interpretable coefficients to better identify which characteristics lead to whether a shot is made or not. Due to time constraints we did not run a GridSearch on our Random Forests model. Provided we have more time that would be an important next step to help better improve our model's score. `combined_shot_type_Dunk` was one characteristic that showed up with the highest coefficient in the Logist Regression model and as the 2nd most important feature in the Random Forests model. To better improve chances of making a shot dunk the ball!!!!"
   ]
  }
 ],
 "metadata": {
  "kernelspec": {
   "display_name": "Python 3 (ipykernel)",
   "language": "python",
   "name": "python3"
  },
  "language_info": {
   "codemirror_mode": {
    "name": "ipython",
    "version": 3
   },
   "file_extension": ".py",
   "mimetype": "text/x-python",
   "name": "python",
   "nbconvert_exporter": "python",
   "pygments_lexer": "ipython3",
   "version": "3.9.7"
  }
 },
 "nbformat": 4,
 "nbformat_minor": 5
}
