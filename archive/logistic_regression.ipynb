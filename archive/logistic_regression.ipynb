{
 "cells": [
  {
   "cell_type": "markdown",
   "id": "3922db7d",
   "metadata": {},
   "source": [
    "# Imports"
   ]
  },
  {
   "cell_type": "code",
   "execution_count": 23,
   "id": "03d9bbf2",
   "metadata": {},
   "outputs": [],
   "source": [
    "import numpy as np\n",
    "import pandas as pd\n",
    "\n",
    "import matplotlib.pyplot as plt\n",
    "\n",
    "from sklearn.linear_model import LogisticRegression\n",
    "\n",
    "\n",
    "from sklearn.model_selection import (cross_val_score, GridSearchCV)\n",
    "from sklearn.metrics import (confusion_matrix, \n",
    "                             ConfusionMatrixDisplay, \n",
    "                             classification_report)\n",
    "\n",
    "np.random.seed(23)"
   ]
  },
  {
   "cell_type": "code",
   "execution_count": 3,
   "id": "69b93458",
   "metadata": {},
   "outputs": [],
   "source": [
    "X_train = pd.read_csv('Data/x_train_processed.csv')\n",
    "X_test = pd.read_csv('Data/x_test_processed.csv')\n",
    "y_train = pd.read_csv('Data/y_train_processed.csv')\n",
    "y_test = pd.read_csv('Data/y_test_processed.csv')"
   ]
  },
  {
   "cell_type": "code",
   "execution_count": 4,
   "id": "b4ebc616",
   "metadata": {},
   "outputs": [
    {
     "name": "stdout",
     "output_type": "stream",
     "text": [
      "(20557, 20) \n",
      " (20557, 1) \n",
      " (5140, 20) \n",
      " (5140, 1)\n"
     ]
    }
   ],
   "source": [
    "print(X_train.shape, '\\n', \n",
    "      y_train.shape, '\\n', \n",
    "      X_test.shape, '\\n', \n",
    "      y_test.shape)"
   ]
  },
  {
   "cell_type": "markdown",
   "id": "ca866058",
   "metadata": {},
   "source": [
    "# Logistic Regression Model"
   ]
  },
  {
   "cell_type": "code",
   "execution_count": 8,
   "id": "1776e68d",
   "metadata": {},
   "outputs": [
    {
     "name": "stdout",
     "output_type": "stream",
     "text": [
      "LogisticRegression(penalty='l1', solver='saga')\n",
      "{'penalty': 'l1', 'solver': 'saga'}\n",
      "\n",
      "Baseline: 55%\n",
      "\n",
      "Best Score: 0.6133\n",
      "Test Score: 0.6111\n"
     ]
    }
   ],
   "source": [
    "logreg_params = {'penalty': ['l1', 'l2'], \n",
    "                 'solver': ['liblinear', 'saga'],\n",
    "                }\n",
    "\n",
    "logreg_gridsearch = GridSearchCV(LogisticRegression(), \n",
    "                                 logreg_params, \n",
    "                                 cv=5, \n",
    "                                 n_jobs=-1)\n",
    "\n",
    "logreg_gridsearch.fit(X_train, y_train.values.ravel())\n",
    "\n",
    "print(logreg_gridsearch.best_estimator_)\n",
    "print(logreg_gridsearch.best_params_)\n",
    "\n",
    "print('\\nBaseline: 55%')\n",
    "\n",
    "print('\\nBest Score:', round(logreg_gridsearch.best_score_, 4))\n",
    "print('Test Score:', round(logreg_gridsearch.score(X_test, y_test.values.ravel()), 4))"
   ]
  },
  {
   "cell_type": "markdown",
   "id": "776bd03e",
   "metadata": {},
   "source": [
    "# Cross Val"
   ]
  },
  {
   "cell_type": "code",
   "execution_count": 10,
   "id": "1f5ff103",
   "metadata": {},
   "outputs": [
    {
     "name": "stdout",
     "output_type": "stream",
     "text": [
      "Baseline: 55%\n",
      "\n",
      "Train scores: [0.60797665 0.61527237 0.61177329 0.61444904 0.61663829]\n",
      "Mean: 0.613\n",
      "Stdev: 0.006 \n",
      "\n",
      "Test scores: [0.60700389 0.60311284 0.61575875 0.60019455 0.60505837]\n",
      "Mean: 0.606\n",
      "Stdev: 0.011 \n",
      "\n"
     ]
    }
   ],
   "source": [
    "logreg = LogisticRegression(max_iter=50000, \n",
    "                            penalty='l1', \n",
    "                            random_state=73, \n",
    "                            solver='liblinear')\n",
    "\n",
    "logreg.fit(X_train, y_train.values.ravel())\n",
    "\n",
    "train_scores = cross_val_score(logreg, X_train, y_train.values.ravel())\n",
    "test_scores = cross_val_score(logreg, X_test, y_test.values.ravel())\n",
    "\n",
    "print('Baseline: 55%\\n')\n",
    "\n",
    "print('Train scores:', train_scores)\n",
    "print('Mean:', round(train_scores.mean(), 3))\n",
    "print('Stdev:', round(2 * train_scores.std(), 3), '\\n')\n",
    "\n",
    "print('Test scores:', test_scores)\n",
    "print('Mean:', round(test_scores.mean(), 3))\n",
    "print('Stdev:', round(2 * test_scores.std(), 3), '\\n')"
   ]
  },
  {
   "cell_type": "markdown",
   "id": "930fb00f",
   "metadata": {},
   "source": [
    "# Coefficient Interpretation"
   ]
  },
  {
   "cell_type": "code",
   "execution_count": 20,
   "id": "3e11094f",
   "metadata": {},
   "outputs": [
    {
     "data": {
      "text/html": [
       "<div>\n",
       "<style scoped>\n",
       "    .dataframe tbody tr th:only-of-type {\n",
       "        vertical-align: middle;\n",
       "    }\n",
       "\n",
       "    .dataframe tbody tr th {\n",
       "        vertical-align: top;\n",
       "    }\n",
       "\n",
       "    .dataframe thead th {\n",
       "        text-align: right;\n",
       "    }\n",
       "</style>\n",
       "<table border=\"1\" class=\"dataframe\">\n",
       "  <thead>\n",
       "    <tr style=\"text-align: right;\">\n",
       "      <th></th>\n",
       "      <th>features</th>\n",
       "      <th>coef</th>\n",
       "      <th>abs</th>\n",
       "    </tr>\n",
       "  </thead>\n",
       "  <tbody>\n",
       "    <tr>\n",
       "      <th>2</th>\n",
       "      <td>combined_shot_type_Dunk</td>\n",
       "      <td>0.598433</td>\n",
       "      <td>0.598433</td>\n",
       "    </tr>\n",
       "    <tr>\n",
       "      <th>3</th>\n",
       "      <td>combined_shot_type_Jump_Shot</td>\n",
       "      <td>-0.156243</td>\n",
       "      <td>0.156243</td>\n",
       "    </tr>\n",
       "    <tr>\n",
       "      <th>19</th>\n",
       "      <td>shot_distance</td>\n",
       "      <td>-0.130305</td>\n",
       "      <td>0.130305</td>\n",
       "    </tr>\n",
       "    <tr>\n",
       "      <th>5</th>\n",
       "      <td>shot_type_3PT_Field_Goal</td>\n",
       "      <td>-0.060304</td>\n",
       "      <td>0.060304</td>\n",
       "    </tr>\n",
       "    <tr>\n",
       "      <th>1</th>\n",
       "      <td>period</td>\n",
       "      <td>-0.053639</td>\n",
       "      <td>0.053639</td>\n",
       "    </tr>\n",
       "    <tr>\n",
       "      <th>0</th>\n",
       "      <td>minutes_remaining</td>\n",
       "      <td>0.044301</td>\n",
       "      <td>0.044301</td>\n",
       "    </tr>\n",
       "    <tr>\n",
       "      <th>10</th>\n",
       "      <td>year_2009</td>\n",
       "      <td>0.032707</td>\n",
       "      <td>0.032707</td>\n",
       "    </tr>\n",
       "    <tr>\n",
       "      <th>16</th>\n",
       "      <td>opponent_MIL</td>\n",
       "      <td>-0.030585</td>\n",
       "      <td>0.030585</td>\n",
       "    </tr>\n",
       "    <tr>\n",
       "      <th>8</th>\n",
       "      <td>year_2004</td>\n",
       "      <td>-0.029788</td>\n",
       "      <td>0.029788</td>\n",
       "    </tr>\n",
       "    <tr>\n",
       "      <th>17</th>\n",
       "      <td>opponent_NYK</td>\n",
       "      <td>0.027477</td>\n",
       "      <td>0.027477</td>\n",
       "    </tr>\n",
       "  </tbody>\n",
       "</table>\n",
       "</div>"
      ],
      "text/plain": [
       "                        features      coef       abs\n",
       "2        combined_shot_type_Dunk  0.598433  0.598433\n",
       "3   combined_shot_type_Jump_Shot -0.156243  0.156243\n",
       "19                 shot_distance -0.130305  0.130305\n",
       "5       shot_type_3PT_Field_Goal -0.060304  0.060304\n",
       "1                         period -0.053639  0.053639\n",
       "0              minutes_remaining  0.044301  0.044301\n",
       "10                     year_2009  0.032707  0.032707\n",
       "16                  opponent_MIL -0.030585  0.030585\n",
       "8                      year_2004 -0.029788  0.029788\n",
       "17                  opponent_NYK  0.027477  0.027477"
      ]
     },
     "execution_count": 20,
     "metadata": {},
     "output_type": "execute_result"
    }
   ],
   "source": [
    "logreg_coefs_0 = pd.DataFrame(list(zip(X_train.columns, np.expm1(logreg.coef_[0]))), \n",
    "                           columns=['features', 'coef'])\n",
    "\n",
    "logreg_coefs_0['abs'] = abs(logreg_coefs_0['coef'])\n",
    "\n",
    "logreg_coefs_0.sort_values('abs', ascending=False).head(10)"
   ]
  },
  {
   "cell_type": "markdown",
   "id": "0e77d59b",
   "metadata": {},
   "source": [
    "# Metrics"
   ]
  },
  {
   "cell_type": "code",
   "execution_count": 22,
   "id": "93056a83",
   "metadata": {},
   "outputs": [
    {
     "name": "stdout",
     "output_type": "stream",
     "text": [
      "              precision    recall  f1-score   support\n",
      "\n",
      "      Missed       0.61      0.84      0.70      2833\n",
      "        Made       0.63      0.33      0.43      2307\n",
      "\n",
      "    accuracy                           0.61      5140\n",
      "   macro avg       0.62      0.59      0.57      5140\n",
      "weighted avg       0.62      0.61      0.58      5140\n",
      "\n"
     ]
    },
    {
     "data": {
      "text/plain": [
       "''"
      ]
     },
     "execution_count": 22,
     "metadata": {},
     "output_type": "execute_result"
    },
    {
     "data": {
      "image/png": "[encoded data removed]",
      "text/plain": [
       "<Figure size 720x720 with 2 Axes>"
      ]
     },
     "metadata": {
      "needs_background": "light"
     },
     "output_type": "display_data"
    }
   ],
   "source": [
    "conmat = np.array(confusion_matrix(y_test, \n",
    "                                   logreg.predict(X_test), \n",
    "                                   labels=[0, 1]))\n",
    "\n",
    "print(classification_report(y_test,\n",
    "                            logreg.predict(X_test), \n",
    "                            target_names=['Missed', 'Made']))\n",
    "\n",
    "matrix_display = ConfusionMatrixDisplay(confusion_matrix=conmat, \n",
    "                                        display_labels=logreg.classes_)\n",
    "matrix_display.plot()\n",
    "\n",
    "figure = plt.gcf()\n",
    "figure.set_size_inches(10, 10)\n",
    ";"
   ]
  },
  {
   "cell_type": "markdown",
   "id": "277a1d17",
   "metadata": {},
   "source": [
    "# Analysis\n",
    "\n",
    "- The Logistic Regression model was overall 61% accurate in predicting the Target Class - \"Shot Made\"\n",
    "- This is 6% better than the baseline model of 55% (majority class: \"Shit Missed\"\n",
    "- The features with the largest coefficients \n",
    "    - `combined_shot_type_Dunk`\n",
    "    - `combined_shot_type_Jump_Shot`\n",
    "    - `shot_distance`\n",
    "    - `shot_type_3PT_Field_Goal`\n",
    "    - `minutes_remaining`\n",
    "- This Logistic Regression model had the same accuracy in predicting the target class as the Random Forest model. Both models had similar \"important features\". "
   ]
  }
 ],
 "metadata": {
  "kernelspec": {
   "display_name": "Python 3 (ipykernel)",
   "language": "python",
   "name": "python3"
  },
  "language_info": {
   "codemirror_mode": {
    "name": "ipython",
    "version": 3
   },
   "file_extension": ".py",
   "mimetype": "text/x-python",
   "name": "python",
   "nbconvert_exporter": "python",
   "pygments_lexer": "ipython3",
   "version": "3.9.13"
  }
 },
 "nbformat": 4,
 "nbformat_minor": 5
}
