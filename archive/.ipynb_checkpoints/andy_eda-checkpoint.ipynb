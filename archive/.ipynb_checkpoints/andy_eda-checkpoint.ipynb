{
 "cells": [
  {
   "cell_type": "markdown",
   "id": "4b7c868a",
   "metadata": {},
   "source": [
    "# Imports"
   ]
  },
  {
   "cell_type": "code",
   "execution_count": 1,
   "id": "3fd6acca",
   "metadata": {},
   "outputs": [],
   "source": [
    "import pandas as pd\n",
    "\n",
    "import matplotlib.pyplot as plt\n",
    "from matplotlib.patches import Patch\n",
    "import seaborn as sns"
   ]
  },
  {
   "cell_type": "code",
   "execution_count": 2,
   "id": "7caa5bb6",
   "metadata": {},
   "outputs": [],
   "source": [
    "df = pd.read_csv('Data/data.csv')"
   ]
  },
  {
   "cell_type": "markdown",
   "id": "9d742e6c",
   "metadata": {},
   "source": [
    "# Data Inspection and Initial Cleaning"
   ]
  },
  {
   "cell_type": "code",
   "execution_count": 3,
   "id": "735d627d",
   "metadata": {},
   "outputs": [
    {
     "data": {
      "text/html": [
       "<div>\n",
       "<style scoped>\n",
       "    .dataframe tbody tr th:only-of-type {\n",
       "        vertical-align: middle;\n",
       "    }\n",
       "\n",
       "    .dataframe tbody tr th {\n",
       "        vertical-align: top;\n",
       "    }\n",
       "\n",
       "    .dataframe thead th {\n",
       "        text-align: right;\n",
       "    }\n",
       "</style>\n",
       "<table border=\"1\" class=\"dataframe\">\n",
       "  <thead>\n",
       "    <tr style=\"text-align: right;\">\n",
       "      <th></th>\n",
       "      <th>action_type</th>\n",
       "      <th>combined_shot_type</th>\n",
       "      <th>game_event_id</th>\n",
       "      <th>game_id</th>\n",
       "      <th>lat</th>\n",
       "      <th>loc_x</th>\n",
       "      <th>loc_y</th>\n",
       "      <th>lon</th>\n",
       "      <th>minutes_remaining</th>\n",
       "      <th>period</th>\n",
       "      <th>...</th>\n",
       "      <th>shot_type</th>\n",
       "      <th>shot_zone_area</th>\n",
       "      <th>shot_zone_basic</th>\n",
       "      <th>shot_zone_range</th>\n",
       "      <th>team_id</th>\n",
       "      <th>team_name</th>\n",
       "      <th>game_date</th>\n",
       "      <th>matchup</th>\n",
       "      <th>opponent</th>\n",
       "      <th>shot_id</th>\n",
       "    </tr>\n",
       "  </thead>\n",
       "  <tbody>\n",
       "    <tr>\n",
       "      <th>0</th>\n",
       "      <td>Jump Shot</td>\n",
       "      <td>Jump Shot</td>\n",
       "      <td>10</td>\n",
       "      <td>20000012</td>\n",
       "      <td>33.9723</td>\n",
       "      <td>167</td>\n",
       "      <td>72</td>\n",
       "      <td>-118.1028</td>\n",
       "      <td>10</td>\n",
       "      <td>1</td>\n",
       "      <td>...</td>\n",
       "      <td>2PT Field Goal</td>\n",
       "      <td>Right Side(R)</td>\n",
       "      <td>Mid-Range</td>\n",
       "      <td>16-24 ft.</td>\n",
       "      <td>1610612747</td>\n",
       "      <td>Los Angeles Lakers</td>\n",
       "      <td>2000-10-31</td>\n",
       "      <td>LAL @ POR</td>\n",
       "      <td>POR</td>\n",
       "      <td>1</td>\n",
       "    </tr>\n",
       "    <tr>\n",
       "      <th>1</th>\n",
       "      <td>Jump Shot</td>\n",
       "      <td>Jump Shot</td>\n",
       "      <td>12</td>\n",
       "      <td>20000012</td>\n",
       "      <td>34.0443</td>\n",
       "      <td>-157</td>\n",
       "      <td>0</td>\n",
       "      <td>-118.4268</td>\n",
       "      <td>10</td>\n",
       "      <td>1</td>\n",
       "      <td>...</td>\n",
       "      <td>2PT Field Goal</td>\n",
       "      <td>Left Side(L)</td>\n",
       "      <td>Mid-Range</td>\n",
       "      <td>8-16 ft.</td>\n",
       "      <td>1610612747</td>\n",
       "      <td>Los Angeles Lakers</td>\n",
       "      <td>2000-10-31</td>\n",
       "      <td>LAL @ POR</td>\n",
       "      <td>POR</td>\n",
       "      <td>2</td>\n",
       "    </tr>\n",
       "    <tr>\n",
       "      <th>2</th>\n",
       "      <td>Jump Shot</td>\n",
       "      <td>Jump Shot</td>\n",
       "      <td>35</td>\n",
       "      <td>20000012</td>\n",
       "      <td>33.9093</td>\n",
       "      <td>-101</td>\n",
       "      <td>135</td>\n",
       "      <td>-118.3708</td>\n",
       "      <td>7</td>\n",
       "      <td>1</td>\n",
       "      <td>...</td>\n",
       "      <td>2PT Field Goal</td>\n",
       "      <td>Left Side Center(LC)</td>\n",
       "      <td>Mid-Range</td>\n",
       "      <td>16-24 ft.</td>\n",
       "      <td>1610612747</td>\n",
       "      <td>Los Angeles Lakers</td>\n",
       "      <td>2000-10-31</td>\n",
       "      <td>LAL @ POR</td>\n",
       "      <td>POR</td>\n",
       "      <td>3</td>\n",
       "    </tr>\n",
       "    <tr>\n",
       "      <th>3</th>\n",
       "      <td>Jump Shot</td>\n",
       "      <td>Jump Shot</td>\n",
       "      <td>43</td>\n",
       "      <td>20000012</td>\n",
       "      <td>33.8693</td>\n",
       "      <td>138</td>\n",
       "      <td>175</td>\n",
       "      <td>-118.1318</td>\n",
       "      <td>6</td>\n",
       "      <td>1</td>\n",
       "      <td>...</td>\n",
       "      <td>2PT Field Goal</td>\n",
       "      <td>Right Side Center(RC)</td>\n",
       "      <td>Mid-Range</td>\n",
       "      <td>16-24 ft.</td>\n",
       "      <td>1610612747</td>\n",
       "      <td>Los Angeles Lakers</td>\n",
       "      <td>2000-10-31</td>\n",
       "      <td>LAL @ POR</td>\n",
       "      <td>POR</td>\n",
       "      <td>4</td>\n",
       "    </tr>\n",
       "    <tr>\n",
       "      <th>4</th>\n",
       "      <td>Driving Dunk Shot</td>\n",
       "      <td>Dunk</td>\n",
       "      <td>155</td>\n",
       "      <td>20000012</td>\n",
       "      <td>34.0443</td>\n",
       "      <td>0</td>\n",
       "      <td>0</td>\n",
       "      <td>-118.2698</td>\n",
       "      <td>6</td>\n",
       "      <td>2</td>\n",
       "      <td>...</td>\n",
       "      <td>2PT Field Goal</td>\n",
       "      <td>Center(C)</td>\n",
       "      <td>Restricted Area</td>\n",
       "      <td>Less Than 8 ft.</td>\n",
       "      <td>1610612747</td>\n",
       "      <td>Los Angeles Lakers</td>\n",
       "      <td>2000-10-31</td>\n",
       "      <td>LAL @ POR</td>\n",
       "      <td>POR</td>\n",
       "      <td>5</td>\n",
       "    </tr>\n",
       "  </tbody>\n",
       "</table>\n",
       "<p>5 rows × 25 columns</p>\n",
       "</div>"
      ],
      "text/plain": [
       "         action_type combined_shot_type  game_event_id   game_id      lat  \\\n",
       "0          Jump Shot          Jump Shot             10  20000012  33.9723   \n",
       "1          Jump Shot          Jump Shot             12  20000012  34.0443   \n",
       "2          Jump Shot          Jump Shot             35  20000012  33.9093   \n",
       "3          Jump Shot          Jump Shot             43  20000012  33.8693   \n",
       "4  Driving Dunk Shot               Dunk            155  20000012  34.0443   \n",
       "\n",
       "   loc_x  loc_y       lon  minutes_remaining  period  ...       shot_type  \\\n",
       "0    167     72 -118.1028                 10       1  ...  2PT Field Goal   \n",
       "1   -157      0 -118.4268                 10       1  ...  2PT Field Goal   \n",
       "2   -101    135 -118.3708                  7       1  ...  2PT Field Goal   \n",
       "3    138    175 -118.1318                  6       1  ...  2PT Field Goal   \n",
       "4      0      0 -118.2698                  6       2  ...  2PT Field Goal   \n",
       "\n",
       "          shot_zone_area  shot_zone_basic  shot_zone_range     team_id  \\\n",
       "0          Right Side(R)        Mid-Range        16-24 ft.  1610612747   \n",
       "1           Left Side(L)        Mid-Range         8-16 ft.  1610612747   \n",
       "2   Left Side Center(LC)        Mid-Range        16-24 ft.  1610612747   \n",
       "3  Right Side Center(RC)        Mid-Range        16-24 ft.  1610612747   \n",
       "4              Center(C)  Restricted Area  Less Than 8 ft.  1610612747   \n",
       "\n",
       "            team_name   game_date    matchup opponent  shot_id  \n",
       "0  Los Angeles Lakers  2000-10-31  LAL @ POR      POR        1  \n",
       "1  Los Angeles Lakers  2000-10-31  LAL @ POR      POR        2  \n",
       "2  Los Angeles Lakers  2000-10-31  LAL @ POR      POR        3  \n",
       "3  Los Angeles Lakers  2000-10-31  LAL @ POR      POR        4  \n",
       "4  Los Angeles Lakers  2000-10-31  LAL @ POR      POR        5  \n",
       "\n",
       "[5 rows x 25 columns]"
      ]
     },
     "execution_count": 3,
     "metadata": {},
     "output_type": "execute_result"
    }
   ],
   "source": [
    "df.head()"
   ]
  },
  {
   "cell_type": "code",
   "execution_count": 4,
   "id": "ec839ff5",
   "metadata": {
    "scrolled": true
   },
   "outputs": [
    {
     "data": {
      "text/plain": [
       "25"
      ]
     },
     "execution_count": 4,
     "metadata": {},
     "output_type": "execute_result"
    }
   ],
   "source": [
    "len(df.columns)"
   ]
  },
  {
   "cell_type": "code",
   "execution_count": 5,
   "id": "6ef4c9e4",
   "metadata": {},
   "outputs": [
    {
     "data": {
      "text/plain": [
       "Index(['action_type', 'combined_shot_type', 'game_event_id', 'game_id', 'lat',\n",
       "       'loc_x', 'loc_y', 'lon', 'minutes_remaining', 'period', 'playoffs',\n",
       "       'season', 'seconds_remaining', 'shot_distance', 'shot_made_flag',\n",
       "       'shot_type', 'shot_zone_area', 'shot_zone_basic', 'shot_zone_range',\n",
       "       'team_id', 'team_name', 'game_date', 'matchup', 'opponent', 'shot_id'],\n",
       "      dtype='object')"
      ]
     },
     "execution_count": 5,
     "metadata": {},
     "output_type": "execute_result"
    }
   ],
   "source": [
    "df.columns"
   ]
  },
  {
   "cell_type": "code",
   "execution_count": 6,
   "id": "d02d9746",
   "metadata": {},
   "outputs": [],
   "source": [
    "def columns_info(df):\n",
    "    columns_df = pd.DataFrame({'nulls': [df[col].isna().sum() for col in df.keys()], \n",
    "                         'dtype': [df[col].dtype for col in df.keys()], \n",
    "                         'nunique_values': [df[col].nunique() for col in df.keys()], \n",
    "                         'unique_values': [df[col].unique()for col in df.keys()], \n",
    "                         'value_counts': [df[col].value_counts() for col in df.keys()]}, \n",
    "                         index=[col for col in df.keys()])\n",
    "    return columns_df"
   ]
  },
  {
   "cell_type": "code",
   "execution_count": 7,
   "id": "b3826e6a",
   "metadata": {},
   "outputs": [
    {
     "data": {
      "text/plain": [
       "(30697, 25)"
      ]
     },
     "execution_count": 7,
     "metadata": {},
     "output_type": "execute_result"
    }
   ],
   "source": [
    "df.shape"
   ]
  },
  {
   "cell_type": "markdown",
   "id": "0610d77f",
   "metadata": {},
   "source": [
    "### Dropping Features that will not be used in models\n",
    "- several \"ID\" features are unique identifiers for game, event, and shot. These are not important for modeling. \n",
    "- several features descripting coordinates on the court will be dropped. \n",
    "    - this information overlaps with two other features `shot_distance` and `shot_type`\n",
    "    \n",
    "- Kaggle had set up this dataset to have 5000 rows where the Target is Null. This is meant for Kaggle to be able to grade models based on predicted targets for this feature. We removed these 5000 rows as we would not be able to provide metrics on how accurate our model was at predicting the target for these rows since the actual target values here are missing. We will make our own train test split in the Preprocessing notebook. "
   ]
  },
  {
   "cell_type": "code",
   "execution_count": 9,
   "id": "03fa7196",
   "metadata": {},
   "outputs": [],
   "source": [
    "df.drop(columns=['game_event_id', 'game_id', 'lat', 'loc_x', \n",
    "                 'loc_y', 'lon', 'shot_id', 'team_id', 'team_name'], axis=1, inplace=True)\n",
    "\n",
    "df.drop(index=df[pd.isna(df.shot_made_flag)].index, inplace=True)\n",
    "df.reset_index(drop=True, inplace=True)\n",
    "\n",
    "df.to_csv('Data/data_cleaned.csv', index=False)"
   ]
  },
  {
   "cell_type": "code",
   "execution_count": 12,
   "id": "2aabb4b1",
   "metadata": {},
   "outputs": [],
   "source": [
    "df = pd.read_csv('Data/data_cleaned.csv')"
   ]
  },
  {
   "cell_type": "code",
   "execution_count": 13,
   "id": "5f428291",
   "metadata": {},
   "outputs": [
    {
     "data": {
      "text/plain": [
       "(25697, 16)"
      ]
     },
     "execution_count": 13,
     "metadata": {},
     "output_type": "execute_result"
    }
   ],
   "source": [
    "df.shape"
   ]
  },
  {
   "cell_type": "code",
   "execution_count": 14,
   "id": "416e6914",
   "metadata": {},
   "outputs": [
    {
     "data": {
      "text/html": [
       "<div>\n",
       "<style scoped>\n",
       "    .dataframe tbody tr th:only-of-type {\n",
       "        vertical-align: middle;\n",
       "    }\n",
       "\n",
       "    .dataframe tbody tr th {\n",
       "        vertical-align: top;\n",
       "    }\n",
       "\n",
       "    .dataframe thead th {\n",
       "        text-align: right;\n",
       "    }\n",
       "</style>\n",
       "<table border=\"1\" class=\"dataframe\">\n",
       "  <thead>\n",
       "    <tr style=\"text-align: right;\">\n",
       "      <th></th>\n",
       "      <th>nulls</th>\n",
       "      <th>dtype</th>\n",
       "      <th>nunique_values</th>\n",
       "      <th>unique_values</th>\n",
       "      <th>value_counts</th>\n",
       "    </tr>\n",
       "  </thead>\n",
       "  <tbody>\n",
       "    <tr>\n",
       "      <th>action_type</th>\n",
       "      <td>0</td>\n",
       "      <td>object</td>\n",
       "      <td>55</td>\n",
       "      <td>[Jump Shot, Driving Dunk Shot, Layup Shot, Run...</td>\n",
       "      <td>Jump Shot                          15836\n",
       "Layup...</td>\n",
       "    </tr>\n",
       "    <tr>\n",
       "      <th>combined_shot_type</th>\n",
       "      <td>0</td>\n",
       "      <td>object</td>\n",
       "      <td>6</td>\n",
       "      <td>[Jump Shot, Dunk, Layup, Tip Shot, Hook Shot, ...</td>\n",
       "      <td>Jump Shot    19710\n",
       "Layup         4532\n",
       "Dunk    ...</td>\n",
       "    </tr>\n",
       "    <tr>\n",
       "      <th>minutes_remaining</th>\n",
       "      <td>0</td>\n",
       "      <td>int64</td>\n",
       "      <td>12</td>\n",
       "      <td>[10, 7, 6, 9, 8, 3, 1, 11, 2, 0, 5, 4]</td>\n",
       "      <td>0     3248\n",
       "4     2408\n",
       "2     2379\n",
       "3     2377\n",
       "1 ...</td>\n",
       "    </tr>\n",
       "    <tr>\n",
       "      <th>period</th>\n",
       "      <td>0</td>\n",
       "      <td>int64</td>\n",
       "      <td>7</td>\n",
       "      <td>[1, 2, 3, 4, 5, 6, 7]</td>\n",
       "      <td>3    7002\n",
       "1    6700\n",
       "4    6043\n",
       "2    5635\n",
       "5     ...</td>\n",
       "    </tr>\n",
       "    <tr>\n",
       "      <th>playoffs</th>\n",
       "      <td>0</td>\n",
       "      <td>int64</td>\n",
       "      <td>2</td>\n",
       "      <td>[0, 1]</td>\n",
       "      <td>0    21939\n",
       "1     3758\n",
       "Name: playoffs, dtype: i...</td>\n",
       "    </tr>\n",
       "    <tr>\n",
       "      <th>season</th>\n",
       "      <td>0</td>\n",
       "      <td>object</td>\n",
       "      <td>20</td>\n",
       "      <td>[2000-01, 2001-02, 2002-03, 2003-04, 2004-05, ...</td>\n",
       "      <td>2005-06    1924\n",
       "2002-03    1852\n",
       "2008-09    185...</td>\n",
       "    </tr>\n",
       "    <tr>\n",
       "      <th>seconds_remaining</th>\n",
       "      <td>0</td>\n",
       "      <td>int64</td>\n",
       "      <td>60</td>\n",
       "      <td>[22, 45, 52, 19, 32, 12, 36, 56, 0, 9, 44, 16,...</td>\n",
       "      <td>0     833\n",
       "1     541\n",
       "2     508\n",
       "4     480\n",
       "28    ...</td>\n",
       "    </tr>\n",
       "    <tr>\n",
       "      <th>shot_distance</th>\n",
       "      <td>0</td>\n",
       "      <td>int64</td>\n",
       "      <td>74</td>\n",
       "      <td>[15, 16, 22, 0, 14, 12, 25, 17, 9, 5, 20, 18, ...</td>\n",
       "      <td>0     4608\n",
       "25    1631\n",
       "24    1263\n",
       "17    1225\n",
       "18...</td>\n",
       "    </tr>\n",
       "    <tr>\n",
       "      <th>shot_made_flag</th>\n",
       "      <td>0</td>\n",
       "      <td>float64</td>\n",
       "      <td>2</td>\n",
       "      <td>[0.0, 1.0]</td>\n",
       "      <td>0.0    14232\n",
       "1.0    11465\n",
       "Name: shot_made_flag...</td>\n",
       "    </tr>\n",
       "    <tr>\n",
       "      <th>shot_type</th>\n",
       "      <td>0</td>\n",
       "      <td>object</td>\n",
       "      <td>2</td>\n",
       "      <td>[2PT Field Goal, 3PT Field Goal]</td>\n",
       "      <td>2PT Field Goal    20285\n",
       "3PT Field Goal     541...</td>\n",
       "    </tr>\n",
       "    <tr>\n",
       "      <th>shot_zone_area</th>\n",
       "      <td>0</td>\n",
       "      <td>object</td>\n",
       "      <td>6</td>\n",
       "      <td>[Left Side(L), Left Side Center(LC), Right Sid...</td>\n",
       "      <td>Center(C)                11289\n",
       "Right Side Cent...</td>\n",
       "    </tr>\n",
       "    <tr>\n",
       "      <th>shot_zone_basic</th>\n",
       "      <td>0</td>\n",
       "      <td>object</td>\n",
       "      <td>7</td>\n",
       "      <td>[Mid-Range, Restricted Area, In The Paint (Non...</td>\n",
       "      <td>Mid-Range                10532\n",
       "Restricted Area...</td>\n",
       "    </tr>\n",
       "    <tr>\n",
       "      <th>shot_zone_range</th>\n",
       "      <td>0</td>\n",
       "      <td>object</td>\n",
       "      <td>5</td>\n",
       "      <td>[8-16 ft., 16-24 ft., Less Than 8 ft., 24+ ft....</td>\n",
       "      <td>Less Than 8 ft.    7857\n",
       "16-24 ft.          690...</td>\n",
       "    </tr>\n",
       "    <tr>\n",
       "      <th>game_date</th>\n",
       "      <td>0</td>\n",
       "      <td>object</td>\n",
       "      <td>1558</td>\n",
       "      <td>[2000-10-31, 2000-11-01, 2000-11-04, 2000-11-0...</td>\n",
       "      <td>2016-04-13    43\n",
       "2007-03-30    41\n",
       "2002-11-07  ...</td>\n",
       "    </tr>\n",
       "    <tr>\n",
       "      <th>matchup</th>\n",
       "      <td>0</td>\n",
       "      <td>object</td>\n",
       "      <td>74</td>\n",
       "      <td>[LAL @ POR, LAL vs. UTA, LAL @ VAN, LAL vs. LA...</td>\n",
       "      <td>LAL @ SAS      853\n",
       "LAL vs. SAS    765\n",
       "LAL @ PH...</td>\n",
       "    </tr>\n",
       "    <tr>\n",
       "      <th>opponent</th>\n",
       "      <td>0</td>\n",
       "      <td>object</td>\n",
       "      <td>33</td>\n",
       "      <td>[POR, UTA, VAN, LAC, HOU, SAS, DEN, SAC, CHI, ...</td>\n",
       "      <td>SAS    1638\n",
       "PHX    1535\n",
       "HOU    1399\n",
       "SAC    139...</td>\n",
       "    </tr>\n",
       "  </tbody>\n",
       "</table>\n",
       "</div>"
      ],
      "text/plain": [
       "                    nulls    dtype  nunique_values  \\\n",
       "action_type             0   object              55   \n",
       "combined_shot_type      0   object               6   \n",
       "minutes_remaining       0    int64              12   \n",
       "period                  0    int64               7   \n",
       "playoffs                0    int64               2   \n",
       "season                  0   object              20   \n",
       "seconds_remaining       0    int64              60   \n",
       "shot_distance           0    int64              74   \n",
       "shot_made_flag          0  float64               2   \n",
       "shot_type               0   object               2   \n",
       "shot_zone_area          0   object               6   \n",
       "shot_zone_basic         0   object               7   \n",
       "shot_zone_range         0   object               5   \n",
       "game_date               0   object            1558   \n",
       "matchup                 0   object              74   \n",
       "opponent                0   object              33   \n",
       "\n",
       "                                                        unique_values  \\\n",
       "action_type         [Jump Shot, Driving Dunk Shot, Layup Shot, Run...   \n",
       "combined_shot_type  [Jump Shot, Dunk, Layup, Tip Shot, Hook Shot, ...   \n",
       "minutes_remaining              [10, 7, 6, 9, 8, 3, 1, 11, 2, 0, 5, 4]   \n",
       "period                                          [1, 2, 3, 4, 5, 6, 7]   \n",
       "playoffs                                                       [0, 1]   \n",
       "season              [2000-01, 2001-02, 2002-03, 2003-04, 2004-05, ...   \n",
       "seconds_remaining   [22, 45, 52, 19, 32, 12, 36, 56, 0, 9, 44, 16,...   \n",
       "shot_distance       [15, 16, 22, 0, 14, 12, 25, 17, 9, 5, 20, 18, ...   \n",
       "shot_made_flag                                             [0.0, 1.0]   \n",
       "shot_type                            [2PT Field Goal, 3PT Field Goal]   \n",
       "shot_zone_area      [Left Side(L), Left Side Center(LC), Right Sid...   \n",
       "shot_zone_basic     [Mid-Range, Restricted Area, In The Paint (Non...   \n",
       "shot_zone_range     [8-16 ft., 16-24 ft., Less Than 8 ft., 24+ ft....   \n",
       "game_date           [2000-10-31, 2000-11-01, 2000-11-04, 2000-11-0...   \n",
       "matchup             [LAL @ POR, LAL vs. UTA, LAL @ VAN, LAL vs. LA...   \n",
       "opponent            [POR, UTA, VAN, LAC, HOU, SAS, DEN, SAC, CHI, ...   \n",
       "\n",
       "                                                         value_counts  \n",
       "action_type         Jump Shot                          15836\n",
       "Layup...  \n",
       "combined_shot_type  Jump Shot    19710\n",
       "Layup         4532\n",
       "Dunk    ...  \n",
       "minutes_remaining   0     3248\n",
       "4     2408\n",
       "2     2379\n",
       "3     2377\n",
       "1 ...  \n",
       "period              3    7002\n",
       "1    6700\n",
       "4    6043\n",
       "2    5635\n",
       "5     ...  \n",
       "playoffs            0    21939\n",
       "1     3758\n",
       "Name: playoffs, dtype: i...  \n",
       "season              2005-06    1924\n",
       "2002-03    1852\n",
       "2008-09    185...  \n",
       "seconds_remaining   0     833\n",
       "1     541\n",
       "2     508\n",
       "4     480\n",
       "28    ...  \n",
       "shot_distance       0     4608\n",
       "25    1631\n",
       "24    1263\n",
       "17    1225\n",
       "18...  \n",
       "shot_made_flag      0.0    14232\n",
       "1.0    11465\n",
       "Name: shot_made_flag...  \n",
       "shot_type           2PT Field Goal    20285\n",
       "3PT Field Goal     541...  \n",
       "shot_zone_area      Center(C)                11289\n",
       "Right Side Cent...  \n",
       "shot_zone_basic     Mid-Range                10532\n",
       "Restricted Area...  \n",
       "shot_zone_range     Less Than 8 ft.    7857\n",
       "16-24 ft.          690...  \n",
       "game_date           2016-04-13    43\n",
       "2007-03-30    41\n",
       "2002-11-07  ...  \n",
       "matchup             LAL @ SAS      853\n",
       "LAL vs. SAS    765\n",
       "LAL @ PH...  \n",
       "opponent            SAS    1638\n",
       "PHX    1535\n",
       "HOU    1399\n",
       "SAC    139...  "
      ]
     },
     "execution_count": 14,
     "metadata": {},
     "output_type": "execute_result"
    }
   ],
   "source": [
    "columns_info(df)"
   ]
  },
  {
   "cell_type": "markdown",
   "id": "b7392a04",
   "metadata": {},
   "source": [
    "# EDA"
   ]
  },
  {
   "cell_type": "code",
   "execution_count": 20,
   "id": "2b3426d6",
   "metadata": {},
   "outputs": [],
   "source": [
    "def descriptive_stats(col):\n",
    "    unique_values = df[col].unique()\n",
    "\n",
    "    print(f'{df[col].describe()}\\n \\\n",
    "    \\n# of Unique values:{df[col].nunique()} \\\n",
    "    \\n\\nUnique values: {unique_values}')\n",
    "    \n",
    "    if df[col].dtypes != object:\n",
    "        Q1 = df[col].quantile(0.25)\n",
    "        Q3 = df[col].quantile(0.75)\n",
    "\n",
    "        IQR = Q3 - Q1\n",
    "\n",
    "        min_boxplot = Q1 - (1.5 * IQR)\n",
    "        max_boxplot = Q3 + (1.5 * IQR)\n",
    "        print(f'\\nMin of boxplot:{min_boxplot: .2f}\\nMax of boxplot: {max_boxplot:.2f}')       "
   ]
  },
  {
   "cell_type": "code",
   "execution_count": 21,
   "id": "0c785957",
   "metadata": {},
   "outputs": [],
   "source": [
    "def plotcat(feature):\n",
    "    plt.figure(figsize=(12,8))\n",
    "    sns.countplot(x=feature, hue='shot_made_flag', data=df, palette={1:'gold', 0:'purple'});\n",
    "\n",
    "    plt.title(feature + ' vs target', \n",
    "              fontsize=18, fontweight='bold', color='firebrick', loc='left')\n",
    "    \n",
    "    plt.ylabel('count', fontsize=16)\n",
    "    plt.xlabel(feature, fontsize=16)\n",
    "\n",
    "    color_patches = [\n",
    "        Patch(facecolor=\"gold\", label='Shot Made'),\n",
    "        Patch(facecolor=\"purple\", label='Shot Missed')\n",
    "    ]\n",
    "\n",
    "    plt.legend(handles=color_patches)\n",
    "\n",
    "    plt.xticks(rotation=45, fontsize=14); "
   ]
  },
  {
   "cell_type": "code",
   "execution_count": 22,
   "id": "a2e2969b",
   "metadata": {},
   "outputs": [],
   "source": [
    "def box_plot(column_name):\n",
    "    fig, (ax1,ax2) = plt.subplots(1, 2, figsize=(20, 10))\n",
    "\n",
    "    sns.boxplot(data=df[column_name], \n",
    "                ax=ax1,\n",
    "                showmeans=True, \n",
    "                width=0.5,\n",
    "                palette=('gold', 8))\n",
    "    \n",
    "    ax2.hist(df[column_name], color='purple', orientation='horizontal')    \n",
    "\n",
    "    ax1.set_title(column_name + ' - Boxplot',\n",
    "                 fontsize=18, \n",
    "                 fontweight='bold', \n",
    "                 color='firebrick', \n",
    "                 loc='left')\n",
    "    ax2.set_title(column_name + ' Frequency',\n",
    "                 fontsize=18, \n",
    "                 fontweight='bold', \n",
    "                 color='firebrick', \n",
    "                 loc='left')\n",
    "    \n",
    "    ax1.set_ylabel(column_name, fontsize=16)\n",
    "    \n",
    "    ax2.set_ylabel(column_name, fontsize=16)\n",
    "    ax2.set_xlabel('Frequency', fontsize=16)\n",
    "    \n",
    "    ax1.tick_params(axis='both', which='major', labelsize=14)\n",
    "    ax2.tick_params(axis='both', which='major', labelsize=14)\n",
    "\n",
    "    ax1.set_facecolor('whitesmoke')\n",
    "    ax2.set_facecolor('whitesmoke');"
   ]
  },
  {
   "cell_type": "code",
   "execution_count": 23,
   "id": "6420570d",
   "metadata": {},
   "outputs": [],
   "source": [
    "def multihist(col):\n",
    "    plt.figure(figsize=(12,8))\n",
    "    plt.hist(df[df['shot_made_flag']==1][col], \n",
    "             bins=10, alpha=0.7, color='black', label='Shot Made')\n",
    "    plt.hist(df[df['shot_made_flag']==0][col], \n",
    "             bins=10, alpha=0.5, color='gold', label='Shot Missed')\n",
    "\n",
    "    plt.title(col + ' vs Shot Made', \n",
    "              fontsize=18, fontweight='bold', color='firebrick', loc='left')\n",
    "    \n",
    "    plt.xlabel(col, fontsize=14)\n",
    "    plt.ylabel('count', fontsize=14)\n",
    "\n",
    "    plt.legend();"
   ]
  },
  {
   "cell_type": "markdown",
   "id": "7ea7de37",
   "metadata": {},
   "source": [
    "## Target - `shot_made_flag`"
   ]
  },
  {
   "cell_type": "code",
   "execution_count": 24,
   "id": "3275c0d6",
   "metadata": {},
   "outputs": [
    {
     "data": {
      "text/plain": [
       "''"
      ]
     },
     "execution_count": 24,
     "metadata": {},
     "output_type": "execute_result"
    },
    {
     "data": {
      "image/png": "[encoded data removed]",
      "text/plain": [
       "<Figure size 864x576 with 1 Axes>"
      ]
     },
     "metadata": {
      "needs_background": "light"
     },
     "output_type": "display_data"
    }
   ],
   "source": [
    "plt.figure(figsize=(12,8))\n",
    "sns.countplot(x='shot_made_flag', data=df, palette={1:'gold', 0:'purple'})\n",
    "\n",
    "plt.title('Target - Shots Made/Missed',\n",
    "             fontsize=18, \n",
    "             fontweight='bold', \n",
    "             color='firebrick', \n",
    "             loc='left')\n",
    "plt.ylabel('Frequency', fontsize=14)\n",
    "plt.xlabel('Shots Made/Missed', fontsize=14)\n",
    "\n",
    "plt.xticks([0.0, 1.0], ['Missed', 'Made'])\n",
    ";"
   ]
  },
  {
   "cell_type": "code",
   "execution_count": 25,
   "id": "4a62283c",
   "metadata": {},
   "outputs": [
    {
     "data": {
      "text/plain": [
       "0.0    0.553839\n",
       "1.0    0.446161\n",
       "Name: shot_made_flag, dtype: float64"
      ]
     },
     "execution_count": 25,
     "metadata": {},
     "output_type": "execute_result"
    }
   ],
   "source": [
    "df.shot_made_flag.value_counts(normalize=True)"
   ]
  },
  {
   "cell_type": "markdown",
   "id": "4dce1e0e",
   "metadata": {},
   "source": [
    "### Target - Shots Made\n",
    "\n",
    "Observations\n",
    "- The baseline is 55% as Shots Missed "
   ]
  },
  {
   "cell_type": "markdown",
   "id": "1678c2aa",
   "metadata": {},
   "source": [
    "## Shot Zone Basic"
   ]
  },
  {
   "cell_type": "code",
   "execution_count": 28,
   "id": "ebbd636c",
   "metadata": {},
   "outputs": [
    {
     "data": {
      "text/plain": [
       "Mid-Range                10532\n",
       "Restricted Area           5932\n",
       "Above the Break 3         4720\n",
       "In The Paint (Non-RA)     3880\n",
       "Right Corner 3             333\n",
       "Left Corner 3              240\n",
       "Backcourt                   60\n",
       "Name: shot_zone_basic, dtype: int64"
      ]
     },
     "execution_count": 28,
     "metadata": {},
     "output_type": "execute_result"
    }
   ],
   "source": [
    "df.shot_zone_basic.value_counts()"
   ]
  },
  {
   "cell_type": "code",
   "execution_count": 30,
   "id": "2e88b87e",
   "metadata": {},
   "outputs": [
    {
     "data": {
      "text/plain": [
       "shot_zone_basic        shot_made_flag\n",
       "Above the Break 3      0.0               3166\n",
       "                       1.0               1554\n",
       "Backcourt              0.0                 59\n",
       "                       1.0                  1\n",
       "In The Paint (Non-RA)  0.0               2117\n",
       "                       1.0               1763\n",
       "Left Corner 3          0.0                151\n",
       "                       1.0                 89\n",
       "Mid-Range              0.0               6253\n",
       "                       1.0               4279\n",
       "Restricted Area        1.0               3666\n",
       "                       0.0               2266\n",
       "Right Corner 3         0.0                220\n",
       "                       1.0                113\n",
       "Name: shot_made_flag, dtype: int64"
      ]
     },
     "execution_count": 30,
     "metadata": {},
     "output_type": "execute_result"
    }
   ],
   "source": [
    "df.groupby('shot_zone_basic')['shot_made_flag'].value_counts()"
   ]
  },
  {
   "cell_type": "code",
   "execution_count": 27,
   "id": "14f4cc49",
   "metadata": {},
   "outputs": [
    {
     "name": "stdout",
     "output_type": "stream",
     "text": [
      "count         25697\n",
      "unique            7\n",
      "top       Mid-Range\n",
      "freq          10532\n",
      "Name: shot_zone_basic, dtype: object\n",
      "     \n",
      "# of Unique values:7     \n",
      "\n",
      "Unique values: ['Mid-Range' 'Restricted Area' 'In The Paint (Non-RA)' 'Above the Break 3'\n",
      " 'Right Corner 3' 'Backcourt' 'Left Corner 3']\n"
     ]
    }
   ],
   "source": [
    "descriptive_stats('shot_zone_basic')"
   ]
  },
  {
   "cell_type": "code",
   "execution_count": 29,
   "id": "5aa3915e",
   "metadata": {},
   "outputs": [
    {
     "data": {
      "image/png": "[encoded data removed]",
      "text/plain": [
       "<Figure size 864x576 with 1 Axes>"
      ]
     },
     "metadata": {
      "needs_background": "light"
     },
     "output_type": "display_data"
    }
   ],
   "source": [
    "plotcat('shot_zone_basic')"
   ]
  },
  {
   "cell_type": "markdown",
   "id": "e51c81d9",
   "metadata": {},
   "source": [
    "## Shot Zone Basic\n",
    "\n",
    "Observations\n",
    "- Kobe has the best probability of making a shot if it is made from a \"Restricted Area\"\n",
    "- He makes most of his shots from \"Mid-Range\"\n",
    "- His probability of making a shot from \"In The Paint\" is roughly 50/50\n",
    "- Out of all shots, only 60 were made from backcourt. These are hail-marry shots. Kobe made 1 of these. \n",
    "\n",
    "Action:\n",
    "    - Dummify"
   ]
  },
  {
   "cell_type": "markdown",
   "id": "685403eb",
   "metadata": {},
   "source": [
    "## Shot Zone Range"
   ]
  },
  {
   "cell_type": "code",
   "execution_count": 32,
   "id": "6577ab98",
   "metadata": {},
   "outputs": [
    {
     "data": {
      "text/plain": [
       "Less Than 8 ft.    7857\n",
       "16-24 ft.          6907\n",
       "8-16 ft.           5580\n",
       "24+ ft.            5281\n",
       "Back Court Shot      72\n",
       "Name: shot_zone_range, dtype: int64"
      ]
     },
     "execution_count": 32,
     "metadata": {},
     "output_type": "execute_result"
    }
   ],
   "source": [
    "df.shot_zone_range.value_counts()"
   ]
  },
  {
   "cell_type": "code",
   "execution_count": 33,
   "id": "fdcb7f18",
   "metadata": {},
   "outputs": [
    {
     "data": {
      "text/plain": [
       "shot_zone_basic        shot_made_flag\n",
       "Above the Break 3      0.0               3166\n",
       "                       1.0               1554\n",
       "Backcourt              0.0                 59\n",
       "                       1.0                  1\n",
       "In The Paint (Non-RA)  0.0               2117\n",
       "                       1.0               1763\n",
       "Left Corner 3          0.0                151\n",
       "                       1.0                 89\n",
       "Mid-Range              0.0               6253\n",
       "                       1.0               4279\n",
       "Restricted Area        1.0               3666\n",
       "                       0.0               2266\n",
       "Right Corner 3         0.0                220\n",
       "                       1.0                113\n",
       "Name: shot_made_flag, dtype: int64"
      ]
     },
     "execution_count": 33,
     "metadata": {},
     "output_type": "execute_result"
    }
   ],
   "source": [
    "df.groupby('shot_zone_basic')['shot_made_flag'].value_counts()"
   ]
  },
  {
   "cell_type": "code",
   "execution_count": 31,
   "id": "23da344f",
   "metadata": {},
   "outputs": [
    {
     "name": "stdout",
     "output_type": "stream",
     "text": [
      "count               25697\n",
      "unique                  5\n",
      "top       Less Than 8 ft.\n",
      "freq                 7857\n",
      "Name: shot_zone_range, dtype: object\n",
      "     \n",
      "# of Unique values:5     \n",
      "\n",
      "Unique values: ['8-16 ft.' '16-24 ft.' 'Less Than 8 ft.' '24+ ft.' 'Back Court Shot']\n"
     ]
    }
   ],
   "source": [
    "descriptive_stats('shot_zone_range')"
   ]
  },
  {
   "cell_type": "code",
   "execution_count": 34,
   "id": "766ce258",
   "metadata": {},
   "outputs": [
    {
     "data": {
      "image/png": "[encoded data removed]",
      "text/plain": [
       "<Figure size 864x576 with 1 Axes>"
      ]
     },
     "metadata": {
      "needs_background": "light"
     },
     "output_type": "display_data"
    }
   ],
   "source": [
    "plotcat('shot_zone_range')"
   ]
  },
  {
   "cell_type": "markdown",
   "id": "134fc6dc",
   "metadata": {},
   "source": [
    "## Shot Zone Range\n",
    "\n",
    "Observations \n",
    "- Kobe made most of his shots within 8ft of the basket. \n",
    "- Coincidentally, shots from this range were the only subgroup that had a higher proportion of \"Shots Made\"\n",
    "\n",
    "Caution: \n",
    "- This feature overlaps with shot_zone_basic, and most likely other distance/position based features\n",
    "\n",
    "Action: \n",
    "- Choose one of these overlapping features and dummify to include in models. "
   ]
  },
  {
   "cell_type": "markdown",
   "id": "f32d7240",
   "metadata": {},
   "source": [
    "## Game Date"
   ]
  },
  {
   "cell_type": "code",
   "execution_count": 36,
   "id": "d2ad34b4",
   "metadata": {},
   "outputs": [
    {
     "data": {
      "text/plain": [
       "1996-11-03     1\n",
       "1996-11-05     1\n",
       "1996-11-06     3\n",
       "1996-11-08     6\n",
       "1996-11-10     3\n",
       "              ..\n",
       "2016-04-06    16\n",
       "2016-04-08    14\n",
       "2016-04-10    19\n",
       "2016-04-11     9\n",
       "2016-04-13    43\n",
       "Name: game_date, Length: 1558, dtype: int64"
      ]
     },
     "execution_count": 36,
     "metadata": {},
     "output_type": "execute_result"
    }
   ],
   "source": [
    "df.game_date.value_counts().sort_index()"
   ]
  },
  {
   "cell_type": "code",
   "execution_count": 39,
   "id": "95180b9b",
   "metadata": {},
   "outputs": [
    {
     "data": {
      "text/plain": [
       "game_date   shot_made_flag\n",
       "1996-11-03  0.0                1\n",
       "1996-11-05  0.0                1\n",
       "1996-11-06  0.0                1\n",
       "            1.0                2\n",
       "1996-11-08  0.0                4\n",
       "                              ..\n",
       "2016-04-10  1.0                9\n",
       "2016-04-11  0.0                6\n",
       "            1.0                3\n",
       "2016-04-13  0.0               24\n",
       "            1.0               19\n",
       "Name: shot_made_flag, Length: 3084, dtype: int64"
      ]
     },
     "execution_count": 39,
     "metadata": {},
     "output_type": "execute_result"
    }
   ],
   "source": [
    "df.groupby('game_date')['shot_made_flag'].value_counts().sort_index()"
   ]
  },
  {
   "cell_type": "code",
   "execution_count": 43,
   "id": "8274758b",
   "metadata": {},
   "outputs": [],
   "source": [
    "df['year'] = [x[:4] for x in df.game_date]"
   ]
  },
  {
   "cell_type": "code",
   "execution_count": 72,
   "id": "cc32a2f1",
   "metadata": {},
   "outputs": [
    {
     "data": {
      "text/plain": [
       "year\n",
       "1996    0.376812\n",
       "1997    0.430400\n",
       "1998    0.432866\n",
       "1999    0.460834\n",
       "2000    0.471445\n",
       "2001    0.462419\n",
       "2002    0.441935\n",
       "2003    0.432214\n",
       "2004    0.428951\n",
       "2005    0.448303\n",
       "2006    0.467952\n",
       "2007    0.450246\n",
       "2008    0.476932\n",
       "2009    0.468322\n",
       "2010    0.439457\n",
       "2011    0.448179\n",
       "2012    0.436763\n",
       "2013    0.448763\n",
       "2014    0.379771\n",
       "2015    0.348884\n",
       "2016    0.362205\n",
       "Name: shot_made_flag, dtype: float64"
      ]
     },
     "execution_count": 72,
     "metadata": {},
     "output_type": "execute_result"
    }
   ],
   "source": [
    "df.groupby('year')['shot_made_flag'].mean()"
   ]
  },
  {
   "cell_type": "code",
   "execution_count": 46,
   "id": "b9ed0005",
   "metadata": {},
   "outputs": [
    {
     "data": {
      "image/png": "[encoded data removed]",
      "text/plain": [
       "<Figure size 864x576 with 1 Axes>"
      ]
     },
     "metadata": {
      "needs_background": "light"
     },
     "output_type": "display_data"
    }
   ],
   "source": [
    "plotcat('year')"
   ]
  },
  {
   "cell_type": "code",
   "execution_count": 54,
   "id": "52c7007a",
   "metadata": {},
   "outputs": [],
   "source": [
    "order=['1996', '1997', '1998', '1999', '2000', '2001', '2002', '2003', '2004',\n",
    "       '2005', '2006', '2007', '2008', '2009', '2010', '2011', '2012', '2013',\n",
    "       '2014', '2015', '2016']"
   ]
  },
  {
   "cell_type": "code",
   "execution_count": 55,
   "id": "44a85876",
   "metadata": {},
   "outputs": [
    {
     "data": {
      "image/png": "[encoded data removed]",
      "text/plain": [
       "<Figure size 864x576 with 1 Axes>"
      ]
     },
     "metadata": {
      "needs_background": "light"
     },
     "output_type": "display_data"
    }
   ],
   "source": [
    "plt.figure(figsize=(12,8))\n",
    "sns.countplot(x='year', hue='shot_made_flag', order=order, data=df, palette={1:'gold', 0:'purple'});\n",
    "\n",
    "plt.title('Year vs target', \n",
    "          fontsize=18, fontweight='bold', color='firebrick', loc='left')\n",
    "\n",
    "plt.ylabel('count', fontsize=16)\n",
    "plt.xlabel('Year', fontsize=16)\n",
    "\n",
    "color_patches = [\n",
    "    Patch(facecolor=\"gold\", label='Shot Made'),\n",
    "    Patch(facecolor=\"purple\", label='Shot Missed')\n",
    "]\n",
    "\n",
    "plt.legend(handles=color_patches)\n",
    "\n",
    "plt.xticks(rotation=45, fontsize=14); "
   ]
  },
  {
   "cell_type": "markdown",
   "id": "e7b6ca95",
   "metadata": {},
   "source": [
    "## Game Date \n",
    "\n",
    "Observations\n",
    "- This feature identify each game Kobe played. \n",
    "- This dataset includes 1558 games that Kobe played from 1996 to 2016\n",
    "\n",
    "Action:\n",
    "- I created a new feature `year` that grouped all years. We can dummify this column and include in models. "
   ]
  },
  {
   "cell_type": "markdown",
   "id": "47948912",
   "metadata": {},
   "source": [
    "## Matchup & Opponent"
   ]
  },
  {
   "cell_type": "code",
   "execution_count": 57,
   "id": "1ece6584",
   "metadata": {},
   "outputs": [
    {
     "data": {
      "text/plain": [
       "LAL @ SAS      853\n",
       "LAL vs. SAS    765\n",
       "LAL @ PHX      751\n",
       "LAL @ SAC      751\n",
       "LAL vs. HOU    722\n",
       "              ... \n",
       "LAL @ PHO       29\n",
       "LAL vs. NOP     21\n",
       "LAL vs. SAN     20\n",
       "LAL @ UTH       15\n",
       "LAL vs. BKN     13\n",
       "Name: matchup, Length: 74, dtype: int64"
      ]
     },
     "execution_count": 57,
     "metadata": {},
     "output_type": "execute_result"
    }
   ],
   "source": [
    "df.matchup.value_counts()"
   ]
  },
  {
   "cell_type": "markdown",
   "id": "c1c2903c",
   "metadata": {},
   "source": [
    "**Cleaning `matchup` to not inclut \"LAL\"**"
   ]
  },
  {
   "cell_type": "code",
   "execution_count": 61,
   "id": "a764f247",
   "metadata": {},
   "outputs": [],
   "source": [
    "df['matchup'] = [x[-3:] for x in df.matchup]"
   ]
  },
  {
   "cell_type": "code",
   "execution_count": 62,
   "id": "06ab7d29",
   "metadata": {},
   "outputs": [
    {
     "name": "stdout",
     "output_type": "stream",
     "text": [
      "count     25697\n",
      "unique       38\n",
      "top         SAS\n",
      "freq       1618\n",
      "Name: matchup, dtype: object\n",
      "     \n",
      "# of Unique values:38     \n",
      "\n",
      "Unique values: ['POR' 'UTA' 'VAN' 'LAC' 'HOU' 'SAS' 'DEN' 'SAC' 'CHI' 'GSW' 'MIN' 'IND'\n",
      " 'SEA' 'DAL' 'PHI' 'DET' 'MIL' 'TOR' 'MIA' 'PHX' 'CLE' 'NJN' 'NYK' 'CHH'\n",
      " 'WAS' 'ORL' 'ATL' 'MEM' 'BOS' 'NOH' 'UTH' 'SAN' 'NOK' 'PHO' 'CHA' 'OKC'\n",
      " 'BKN' 'NOP']\n"
     ]
    }
   ],
   "source": [
    "descriptive_stats('matchup')"
   ]
  },
  {
   "cell_type": "markdown",
   "id": "6e4ea69e",
   "metadata": {},
   "source": [
    "### Opponent"
   ]
  },
  {
   "cell_type": "code",
   "execution_count": 63,
   "id": "e4baf1ad",
   "metadata": {},
   "outputs": [
    {
     "name": "stdout",
     "output_type": "stream",
     "text": [
      "count     25697\n",
      "unique       33\n",
      "top         SAS\n",
      "freq       1638\n",
      "Name: opponent, dtype: object\n",
      "     \n",
      "# of Unique values:33     \n",
      "\n",
      "Unique values: ['POR' 'UTA' 'VAN' 'LAC' 'HOU' 'SAS' 'DEN' 'SAC' 'CHI' 'GSW' 'MIN' 'IND'\n",
      " 'SEA' 'DAL' 'PHI' 'DET' 'MIL' 'TOR' 'MIA' 'PHX' 'CLE' 'NJN' 'NYK' 'CHA'\n",
      " 'WAS' 'ORL' 'ATL' 'MEM' 'BOS' 'NOH' 'NOP' 'OKC' 'BKN']\n"
     ]
    }
   ],
   "source": [
    "descriptive_stats('opponent')"
   ]
  },
  {
   "cell_type": "code",
   "execution_count": 70,
   "id": "3f14d426",
   "metadata": {},
   "outputs": [
    {
     "data": {
      "text/plain": [
       "[('ATL', 'ATL'),\n",
       " ('BKN', 'BKN'),\n",
       " ('BOS', 'BOS'),\n",
       " ('CHA', 'CHA'),\n",
       " ('CHH', 'CHI'),\n",
       " ('CHI', 'CLE'),\n",
       " ('CLE', 'DAL'),\n",
       " ('DAL', 'DEN'),\n",
       " ('DEN', 'DET'),\n",
       " ('DET', 'GSW'),\n",
       " ('GSW', 'HOU'),\n",
       " ('HOU', 'IND'),\n",
       " ('IND', 'LAC'),\n",
       " ('LAC', 'MEM'),\n",
       " ('MEM', 'MIA'),\n",
       " ('MIA', 'MIL'),\n",
       " ('MIL', 'MIN'),\n",
       " ('MIN', 'NJN'),\n",
       " ('NJN', 'NOH'),\n",
       " ('NOH', 'NOP'),\n",
       " ('NOK', 'NYK'),\n",
       " ('NOP', 'OKC'),\n",
       " ('NYK', 'ORL'),\n",
       " ('OKC', 'PHI'),\n",
       " ('ORL', 'PHX'),\n",
       " ('PHI', 'POR'),\n",
       " ('PHO', 'SAC'),\n",
       " ('PHX', 'SAS'),\n",
       " ('POR', 'SEA'),\n",
       " ('SAC', 'TOR'),\n",
       " ('SAN', 'UTA'),\n",
       " ('SAS', 'VAN'),\n",
       " ('SEA', 'WAS')]"
      ]
     },
     "execution_count": 70,
     "metadata": {},
     "output_type": "execute_result"
    }
   ],
   "source": [
    "[(a,b) for a,b in zip(df.matchup.value_counts().sort_index().index, df.opponent.value_counts().sort_index().index)]"
   ]
  },
  {
   "cell_type": "code",
   "execution_count": 71,
   "id": "8a944243",
   "metadata": {},
   "outputs": [
    {
     "data": {
      "image/png": "[encoded data removed]",
      "text/plain": [
       "<Figure size 864x576 with 1 Axes>"
      ]
     },
     "metadata": {
      "needs_background": "light"
     },
     "output_type": "display_data"
    }
   ],
   "source": [
    "plotcat('opponent')"
   ]
  },
  {
   "cell_type": "markdown",
   "id": "d5c79018",
   "metadata": {},
   "source": [
    "### Matchup and Opponent\n",
    "\n",
    "Observations\n",
    "- `matchup` and `opponent` overlap. For this reason we will include only `opponent` in our models\n",
    "\n",
    "Action:\n",
    "- Dummify "
   ]
  }
 ],
 "metadata": {
  "kernelspec": {
   "display_name": "Python 3 (ipykernel)",
   "language": "python",
   "name": "python3"
  },
  "language_info": {
   "codemirror_mode": {
    "name": "ipython",
    "version": 3
   },
   "file_extension": ".py",
   "mimetype": "text/x-python",
   "name": "python",
   "nbconvert_exporter": "python",
   "pygments_lexer": "ipython3",
   "version": "3.9.7"
  }
 },
 "nbformat": 4,
 "nbformat_minor": 5
}
