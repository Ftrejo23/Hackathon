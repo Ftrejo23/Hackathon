{
 "cells": [
  {
   "cell_type": "code",
   "execution_count": 1,
   "id": "20450f1f",
   "metadata": {},
   "outputs": [],
   "source": [
    "import pandas as pd\n",
    "import numpy as np\n",
    "\n",
    "import matplotlib.pyplot as plt \n",
    "import seaborn as sns\n",
    "\n",
    "from sklearn.model_selection import (cross_val_score, train_test_split, \n",
    "                                     cross_val_predict, StratifiedKFold, GridSearchCV)\n",
    "\n",
    "from sklearn.preprocessing import StandardScaler\n",
    "from sklearn.pipeline import Pipeline\n",
    "from sklearn.metrics import confusion_matrix, plot_confusion_matrix, classification_report, ConfusionMatrixDisplay\n",
    "from sklearn.ensemble import RandomForestClassifier\n",
    "\n",
    "np.random.seed(23)"
   ]
  },
  {
   "cell_type": "code",
   "execution_count": 2,
   "id": "528d84f5",
   "metadata": {},
   "outputs": [],
   "source": [
    "df_final = pd.read_csv('Data/data_final')"
   ]
  },
  {
   "cell_type": "code",
   "execution_count": 3,
   "id": "cc05a7d2",
   "metadata": {},
   "outputs": [],
   "source": [
    "y_train = pd.read_csv('Data/y_train_processed.csv')\n",
    "y_test = pd.read_csv('Data/y_test_processed.csv')\n",
    "\n",
    "X_train = pd.read_csv('Data/x_train_processed.csv')\n",
    "X_test = pd.read_csv('Data/x_test_processed.csv')"
   ]
  },
  {
   "cell_type": "markdown",
   "id": "cb4960d4",
   "metadata": {},
   "source": [
    "## Let's create a function to print out cross val score"
   ]
  },
  {
   "cell_type": "code",
   "execution_count": 4,
   "id": "85b4ad13",
   "metadata": {},
   "outputs": [],
   "source": [
    "def model_scores(cv_scores, model, X, y, model_name):  \n",
    "    print(f'Score from {model_name}: {model.score(X, y):.4f}')\n",
    "    print(f'Min and Max scores are: [{cv_scores.min():.4f}, {cv_scores.max():.4f}]')\n",
    "    print(f'Confidence interval is : {cv_scores.mean():.4f} \\u00B1 {2*cv_scores.std():.4f}')"
   ]
  },
  {
   "cell_type": "markdown",
   "id": "a283026d",
   "metadata": {},
   "source": [
    "## Now let's create a Random Forest Model"
   ]
  },
  {
   "cell_type": "code",
   "execution_count": 5,
   "id": "0565a26a",
   "metadata": {},
   "outputs": [
    {
     "data": {
      "text/plain": [
       "RandomForestClassifier(class_weight='balanced', max_depth=10, n_estimators=20,\n",
       "                       n_jobs=-1, random_state=23)"
      ]
     },
     "execution_count": 5,
     "metadata": {},
     "output_type": "execute_result"
    }
   ],
   "source": [
    "rf = RandomForestClassifier(n_jobs=-1, random_state=23, n_estimators=20, class_weight='balanced', max_depth=10)\n",
    "rf.fit(X_train, np.ravel(y_train))"
   ]
  },
  {
   "cell_type": "code",
   "execution_count": 6,
   "id": "244bfc24",
   "metadata": {},
   "outputs": [],
   "source": [
    "X = df_final.drop('shot_made_flag', axis=1)\n",
    "y = df_final.shot_made_flag"
   ]
  },
  {
   "cell_type": "code",
   "execution_count": 7,
   "id": "f63200a7",
   "metadata": {},
   "outputs": [
    {
     "name": "stdout",
     "output_type": "stream",
     "text": [
      "Score from random forest: 0.6070\n",
      "Min and Max scores are: [0.5965, 0.6261]\n",
      "Confidence interval is : 0.6101 ± 0.0163\n"
     ]
    }
   ],
   "source": [
    "cv = StratifiedKFold(n_splits=10, random_state=42, shuffle=True)\n",
    "\n",
    "scores = cross_val_score(rf, X, y, cv=cv)\n",
    "\n",
    "model_scores(scores, rf, X_test, y_test, 'random forest')"
   ]
  },
  {
   "attachments": {},
   "cell_type": "markdown",
   "id": "0bd24c17",
   "metadata": {},
   "source": [
    "### For our Random Forests model our accuracy was 60.70% which is 5.7% better than our baseline of 55%. Our mean cross val score for our model is 61.01% with a confidence interval of ± 1.63% which is a small interval showing we have low variance."
   ]
  },
  {
   "cell_type": "markdown",
   "id": "0ed4701e",
   "metadata": {},
   "source": [
    "## Now let's look at the feature importance of our Random Forest model to identify the features that are most relevant."
   ]
  },
  {
   "cell_type": "code",
   "execution_count": 8,
   "id": "642a49cc",
   "metadata": {},
   "outputs": [
    {
     "data": {
      "text/html": [
       "<div>\n",
       "<style scoped>\n",
       "    .dataframe tbody tr th:only-of-type {\n",
       "        vertical-align: middle;\n",
       "    }\n",
       "\n",
       "    .dataframe tbody tr th {\n",
       "        vertical-align: top;\n",
       "    }\n",
       "\n",
       "    .dataframe thead th {\n",
       "        text-align: right;\n",
       "    }\n",
       "</style>\n",
       "<table border=\"1\" class=\"dataframe\">\n",
       "  <thead>\n",
       "    <tr style=\"text-align: right;\">\n",
       "      <th></th>\n",
       "      <th>feature</th>\n",
       "      <th>importance</th>\n",
       "    </tr>\n",
       "  </thead>\n",
       "  <tbody>\n",
       "    <tr>\n",
       "      <th>19</th>\n",
       "      <td>shot_distance</td>\n",
       "      <td>0.303423</td>\n",
       "    </tr>\n",
       "    <tr>\n",
       "      <th>2</th>\n",
       "      <td>combined_shot_type_Dunk</td>\n",
       "      <td>0.168515</td>\n",
       "    </tr>\n",
       "    <tr>\n",
       "      <th>3</th>\n",
       "      <td>combined_shot_type_Jump_Shot</td>\n",
       "      <td>0.106335</td>\n",
       "    </tr>\n",
       "    <tr>\n",
       "      <th>0</th>\n",
       "      <td>minutes_remaining</td>\n",
       "      <td>0.102162</td>\n",
       "    </tr>\n",
       "    <tr>\n",
       "      <th>4</th>\n",
       "      <td>combined_shot_type_Layup</td>\n",
       "      <td>0.069738</td>\n",
       "    </tr>\n",
       "  </tbody>\n",
       "</table>\n",
       "</div>"
      ],
      "text/plain": [
       "                         feature  importance\n",
       "19                 shot_distance    0.303423\n",
       "2        combined_shot_type_Dunk    0.168515\n",
       "3   combined_shot_type_Jump_Shot    0.106335\n",
       "0              minutes_remaining    0.102162\n",
       "4       combined_shot_type_Layup    0.069738"
      ]
     },
     "execution_count": 8,
     "metadata": {},
     "output_type": "execute_result"
    }
   ],
   "source": [
    "df_feature_importance = pd.DataFrame({'feature':X_train.columns,\n",
    "                                      'importance':rf.feature_importances_})\n",
    "df_feature_importance.sort_values('importance', ascending=False).head()"
   ]
  },
  {
   "cell_type": "markdown",
   "id": "ce35d17d",
   "metadata": {},
   "source": [
    "## According to our Random Forest model the above 5 features have the best predictive power (level of importance)."
   ]
  },
  {
   "cell_type": "code",
   "execution_count": 9,
   "id": "a123f75b",
   "metadata": {},
   "outputs": [
    {
     "data": {
      "text/html": [
       "<div>\n",
       "<style scoped>\n",
       "    .dataframe tbody tr th:only-of-type {\n",
       "        vertical-align: middle;\n",
       "    }\n",
       "\n",
       "    .dataframe tbody tr th {\n",
       "        vertical-align: top;\n",
       "    }\n",
       "\n",
       "    .dataframe thead th {\n",
       "        text-align: right;\n",
       "    }\n",
       "</style>\n",
       "<table border=\"1\" class=\"dataframe\">\n",
       "  <thead>\n",
       "    <tr style=\"text-align: right;\">\n",
       "      <th></th>\n",
       "      <th>count</th>\n",
       "      <th>mean</th>\n",
       "      <th>std</th>\n",
       "      <th>min</th>\n",
       "      <th>25%</th>\n",
       "      <th>50%</th>\n",
       "      <th>75%</th>\n",
       "      <th>max</th>\n",
       "    </tr>\n",
       "    <tr>\n",
       "      <th>shot_made_flag</th>\n",
       "      <th></th>\n",
       "      <th></th>\n",
       "      <th></th>\n",
       "      <th></th>\n",
       "      <th></th>\n",
       "      <th></th>\n",
       "      <th></th>\n",
       "      <th></th>\n",
       "    </tr>\n",
       "  </thead>\n",
       "  <tbody>\n",
       "    <tr>\n",
       "      <th>0.0</th>\n",
       "      <td>14232.0</td>\n",
       "      <td>15.127600</td>\n",
       "      <td>9.193606</td>\n",
       "      <td>0.0</td>\n",
       "      <td>8.0</td>\n",
       "      <td>16.0</td>\n",
       "      <td>22.0</td>\n",
       "      <td>79.0</td>\n",
       "    </tr>\n",
       "    <tr>\n",
       "      <th>1.0</th>\n",
       "      <td>11465.0</td>\n",
       "      <td>11.383428</td>\n",
       "      <td>9.213679</td>\n",
       "      <td>0.0</td>\n",
       "      <td>0.0</td>\n",
       "      <td>12.0</td>\n",
       "      <td>19.0</td>\n",
       "      <td>43.0</td>\n",
       "    </tr>\n",
       "  </tbody>\n",
       "</table>\n",
       "</div>"
      ],
      "text/plain": [
       "                  count       mean       std  min  25%   50%   75%   max\n",
       "shot_made_flag                                                          \n",
       "0.0             14232.0  15.127600  9.193606  0.0  8.0  16.0  22.0  79.0\n",
       "1.0             11465.0  11.383428  9.213679  0.0  0.0  12.0  19.0  43.0"
      ]
     },
     "execution_count": 9,
     "metadata": {},
     "output_type": "execute_result"
    }
   ],
   "source": [
    "df_final.groupby('shot_made_flag').describe()['shot_distance']"
   ]
  },
  {
   "cell_type": "markdown",
   "id": "28b9d919",
   "metadata": {},
   "source": [
    "### Top 2 features\n",
    " - shot_distance: We can see that the average shot distance for made shots is 11.38 feet and for misses is 15.12 feet. We want shots to be closer to 11 feet for better odds of making it.\n",
    " - combined_shot_type_Dunk: We want to make sure dunks are emphasized since our model predicted this as being important and leading to more successful shots made."
   ]
  }
 ],
 "metadata": {
  "kernelspec": {
   "display_name": "Python 3 (ipykernel)",
   "language": "python",
   "name": "python3"
  },
  "language_info": {
   "codemirror_mode": {
    "name": "ipython",
    "version": 3
   },
   "file_extension": ".py",
   "mimetype": "text/x-python",
   "name": "python",
   "nbconvert_exporter": "python",
   "pygments_lexer": "ipython3",
   "version": "3.9.7"
  }
 },
 "nbformat": 4,
 "nbformat_minor": 5
}
